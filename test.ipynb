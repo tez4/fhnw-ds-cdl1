{
 "cells": [
  {
   "cell_type": "code",
   "execution_count": null,
   "metadata": {},
   "outputs": [],
   "source": [
    "import csv\n",
    "import numpy as np\n",
    "import pandas as pd\n",
    "import plotly.express as px\n",
    "import plotly.graph_objects as go\n",
    "import plotly.figure_factory as ff\n",
    "from plotly.subplots import make_subplots\n",
    "from src import read_nz_file, read_jg_file, update_meta_data"
   ]
  },
  {
   "cell_type": "code",
   "execution_count": null,
   "metadata": {},
   "outputs": [],
   "source": [
    "meta = pd.read_csv('data/meta.csv')\n",
    "meta"
   ]
  },
  {
   "cell_type": "code",
   "execution_count": null,
   "metadata": {},
   "outputs": [],
   "source": [
    "# added NZ 20201012\n",
    "# data logged with SensorLog 100hz\n",
    "\n",
    "nz_walking = pd.read_csv('data/walking_nz_4.csv')\n",
    "nz_running = pd.read_csv('data/running_nz_3.csv')\n",
    "nz_cycling = pd.read_csv('data/cycling_nz_3.csv')\n",
    "nz_sitting = pd.read_csv('data/sitting_nz_3.csv')"
   ]
  },
  {
   "cell_type": "code",
   "execution_count": null,
   "metadata": {},
   "outputs": [],
   "source": [
    "running_nz_3 = pd.read_csv('data/running_nz_3.csv')"
   ]
  },
  {
   "cell_type": "markdown",
   "metadata": {},
   "source": [
    "`data/AndroSensor_100hz.csv` has a setting to record exactly 100hz. In a test of just over a minute it did exactly so."
   ]
  },
  {
   "cell_type": "code",
   "execution_count": null,
   "metadata": {},
   "outputs": [],
   "source": [
    "df_cycling_nz = read_nz_file('cycling_nz_3')"
   ]
  },
  {
   "cell_type": "code",
   "execution_count": null,
   "metadata": {},
   "outputs": [],
   "source": [
    "df_cycling_nz.head()\n",
    "#df_cycling_nz.dtypes\n",
    "df_cycling_nz.dtypes\n",
    "df_cycling_nz['datetime'].dt.tz_localize(None)"
   ]
  },
  {
   "cell_type": "code",
   "execution_count": null,
   "metadata": {},
   "outputs": [],
   "source": [
    "walking_1 = read_jg_file('walking_jg_1')\n",
    "walking_2 = read_jg_file('walking_jg_2')\n",
    "walking_3 = read_jg_file('walking_jg_3')\n",
    "running_1 = read_jg_file('running_jg_1')\n",
    "running_2 = read_jg_file('running_jg_2')\n",
    "running_3 = read_jg_file('running_jg_3')\n",
    "running_4 = read_jg_file('running_jg_4')\n",
    "running_5 = read_jg_file('running_jg_5')\n",
    "sitting_1 = read_jg_file('sitting_jg_1')\n",
    "sitting_2 = read_jg_file('sitting_jg_2')\n",
    "cycling_1 = read_jg_file('cycling_jg_1')\n",
    "cycling_2 = read_jg_file('cycling_jg_2')\n",
    "cycling_3 = read_jg_file('cycling_jg_3')"
   ]
  },
  {
   "cell_type": "code",
   "execution_count": null,
   "metadata": {},
   "outputs": [],
   "source": [
    "test_nz = pd.read_csv('data/same_data_test_nz.csv')\n",
    "test_nz['Time since start in ms '] = test_nz.reset_index()['index'] * 10\n",
    "test_jg = read_jg_file('same_data_test_jg')"
   ]
  },
  {
   "cell_type": "code",
   "execution_count": null,
   "metadata": {},
   "outputs": [],
   "source": [
    "walking_1.columns"
   ]
  },
  {
   "cell_type": "code",
   "execution_count": null,
   "metadata": {},
   "outputs": [],
   "source": [
    "def show_multiple_columns(df, x, y_variables, title, max = -1):\n",
    "    fig = make_subplots(\n",
    "        rows=len(y_variables), cols=1, shared_xaxes=True, vertical_spacing=0.02)\n",
    "\n",
    "    if isinstance(df, list):\n",
    "        for i, (my_df, var) in enumerate(zip(df, y_variables)):\n",
    "            fig.add_trace(\n",
    "                go.Scatter(x=my_df[x].iloc[:max], y=my_df[var[0]].iloc[:max], name = var[1]),\n",
    "                row=i + 1,\n",
    "                col=1\n",
    "            )\n",
    "    else:\n",
    "        for i, var in enumerate(y_variables):\n",
    "            fig.add_trace(\n",
    "                go.Scatter(x=df[x].iloc[:max], y=df[var[0]].iloc[:max], name = var[1]),\n",
    "                row=i + 1,\n",
    "                col=1\n",
    "            )\n",
    "\n",
    "    fig.update_layout(\n",
    "        height=len(y_variables) * 120,\n",
    "        width=1000,\n",
    "        title_text=title,\n",
    "        legend=dict(\n",
    "            orientation=\"h\",\n",
    "            yanchor=\"top\",\n",
    "            y=-0.30 / len(y_variables),\n",
    "            xanchor=\"right\",\n",
    "            x=1\n",
    "        ),\n",
    "        margin=dict(l=15, r=15, t=50, b=15)\n",
    "    )\n",
    "\n",
    "    fig.show()"
   ]
  },
  {
   "cell_type": "code",
   "execution_count": null,
   "metadata": {},
   "outputs": [],
   "source": [
    "test_jg['GRAVITY X (G)'] = test_jg['GRAVITY X (m/s²)'] / -9.80665\n",
    "test_jg['GRAVITY Y (G)'] = test_jg['GRAVITY Y (m/s²)'] / -9.80665\n",
    "test_jg['GRAVITY Z (G)'] = test_jg['GRAVITY Z (m/s²)'] / -9.80665"
   ]
  },
  {
   "cell_type": "code",
   "execution_count": null,
   "metadata": {},
   "outputs": [],
   "source": [
    "show_multiple_columns(\n",
    "    [test_jg, test_jg, test_jg, test_nz, test_nz, test_nz],\n",
    "    'Time since start in ms ',\n",
    "    [\n",
    "        [ 'GRAVITY X (G)','running jg x'],\n",
    "        [ 'GRAVITY Y (G)','running jg y'],\n",
    "        [ 'GRAVITY Z (G)','running jg z'],\n",
    "        [ 'motionGravityX(G)', 'running nz x'],\n",
    "        [ 'motionGravityY(G)', 'running nz y'],\n",
    "        [ 'motionGravityZ(G)', 'running nz z']\n",
    "    ],\n",
    "    'Gravity'\n",
    ")"
   ]
  },
  {
   "cell_type": "code",
   "execution_count": null,
   "metadata": {},
   "outputs": [],
   "source": [
    "test_jg['ACCELEROMETER X (G)'] = test_jg['ACCELEROMETER X (m/s²)'] / -9.80665\n",
    "test_jg['ACCELEROMETER Y (G)'] = test_jg['ACCELEROMETER Y (m/s²)'] / -9.80665\n",
    "test_jg['ACCELEROMETER Z (G)'] = test_jg['ACCELEROMETER Z (m/s²)'] / -9.80665"
   ]
  },
  {
   "cell_type": "code",
   "execution_count": null,
   "metadata": {},
   "outputs": [],
   "source": [
    "show_multiple_columns(\n",
    "    [test_jg, test_jg, test_jg, test_nz, test_nz, test_nz],\n",
    "    'Time since start in ms ',\n",
    "    [\n",
    "        [ 'ACCELEROMETER X (G)','running jg x'],\n",
    "        [ 'ACCELEROMETER Y (G)','running jg y'],\n",
    "        [ 'ACCELEROMETER Z (G)','running jg z'],\n",
    "        [ 'accelerometerAccelerationX(G)', 'running nz x'],\n",
    "        [ 'accelerometerAccelerationY(G)', 'running nz y'],\n",
    "        [ 'accelerometerAccelerationZ(G)', 'running nz z']\n",
    "    ],\n",
    "    'Accelerometer'\n",
    ")"
   ]
  },
  {
   "cell_type": "code",
   "execution_count": null,
   "metadata": {},
   "outputs": [],
   "source": [
    "show_multiple_columns(\n",
    "    [test_jg, test_jg, test_jg, test_nz, test_nz, test_nz],\n",
    "    'Time since start in ms ',\n",
    "    [\n",
    "        [ 'GYROSCOPE X (rad/s)','running jg x'],\n",
    "        [ 'GYROSCOPE Y (rad/s)','running jg y'],\n",
    "        [ 'GYROSCOPE Z (rad/s)','running jg z'],\n",
    "        [ 'gyroRotationX(rad/s)', 'running nz x'],\n",
    "        [ 'gyroRotationY(rad/s)', 'running nz y'],\n",
    "        [ 'gyroRotationZ(rad/s)', 'running nz z']\n",
    "    ],\n",
    "    'Gyroscope'\n",
    ")"
   ]
  },
  {
   "cell_type": "code",
   "execution_count": null,
   "metadata": {},
   "outputs": [],
   "source": [
    "test_jg['ORIENTATION X (pitch rad)'] = test_jg['ORIENTATION X (pitch °)'] / 60\n",
    "test_jg['ORIENTATION Y (roll rad)'] = test_jg['ORIENTATION Y (roll °)'] / 60\n",
    "test_jg['ORIENTATION Z (azimuth rad)'] = test_jg['ORIENTATION Z (azimuth °)'] / 60"
   ]
  },
  {
   "cell_type": "code",
   "execution_count": null,
   "metadata": {},
   "outputs": [],
   "source": [
    "show_multiple_columns(\n",
    "    [test_jg, test_jg, test_jg, test_nz, test_nz, test_nz],\n",
    "    'Time since start in ms ',\n",
    "    [\n",
    "        [ 'ORIENTATION X (pitch rad)','running jg x'],\n",
    "        [ 'ORIENTATION Y (roll rad)','running jg y'],\n",
    "        [ 'ORIENTATION Z (azimuth rad)','running jg z'],\n",
    "        [ 'motionPitch(rad)', 'running nz x'],\n",
    "        [ 'motionRoll(rad)', 'running nz y'],\n",
    "        [ 'motionYaw(rad)', 'running nz z']\n",
    "    ],\n",
    "    'Orientation'\n",
    ")"
   ]
  },
  {
   "cell_type": "code",
   "execution_count": null,
   "metadata": {},
   "outputs": [],
   "source": [
    "show_multiple_columns(\n",
    "    [test_jg, test_jg, test_jg, test_nz, test_nz, test_nz],\n",
    "    'Time since start in ms ',\n",
    "    [\n",
    "        [ 'MAGNETIC FIELD X (μT)','running jg x'],\n",
    "        [ 'MAGNETIC FIELD Y (μT)','running jg y'],\n",
    "        [ 'MAGNETIC FIELD Z (μT)','running jg z'],\n",
    "        [ 'magnetometerX(µT)', 'running nz x'],\n",
    "        [ 'magnetometerY(µT)', 'running nz y'],\n",
    "        [ 'magnetometerZ(µT)', 'running nz z']\n",
    "    ],\n",
    "    'Magnetometer'\n",
    ")"
   ]
  },
  {
   "cell_type": "code",
   "execution_count": null,
   "metadata": {},
   "outputs": [],
   "source": [
    "show_multiple_columns(\n",
    "    [walking_1, walking_2, walking_3, running_1, running_2, running_3, running_4, running_5, sitting_1, sitting_2, cycling_1, cycling_2, cycling_3],\n",
    "    'Time since start in ms ',\n",
    "    [\n",
    "        [ 'GRAVITY X (m/s²)','walking 1'], [ 'GRAVITY X (m/s²)','walking 2'], [ 'GRAVITY X (m/s²)','walking 3'],\n",
    "        ['GRAVITY X (m/s²)', 'running 1'], ['GRAVITY X (m/s²)', 'running 2'], ['GRAVITY X (m/s²)', 'running 3'], ['GRAVITY X (m/s²)', 'running 4'], ['GRAVITY X (m/s²)', 'running 5'],\n",
    "        ['GRAVITY X (m/s²)', 'sitting 1'], ['GRAVITY X (m/s²)', 'sitting 2'],\n",
    "        ['GRAVITY X (m/s²)', 'cycling 1'], ['GRAVITY X (m/s²)', 'cycling 2'], ['GRAVITY X (m/s²)', 'cycling 3']],\n",
    "    'Gravity'\n",
    ")"
   ]
  },
  {
   "cell_type": "code",
   "execution_count": null,
   "metadata": {},
   "outputs": [],
   "source": [
    "walking_1['ACCELEROMETER'] = np.sqrt(walking_1['ACCELEROMETER X (m/s²)']**2 + walking_1['ACCELEROMETER Y (m/s²)']**2 + walking_1['ACCELEROMETER Z (m/s²)']**2)\n",
    "\n",
    "show_multiple_columns(walking_1, 'datetime', [[ 'ACCELEROMETER X (m/s²)','x'], ['ACCELEROMETER Y (m/s²)', 'y'], ['ACCELEROMETER Z (m/s²)', 'z'], ['ACCELEROMETER', 'total']], 'Accelerometer', 10000)"
   ]
  },
  {
   "cell_type": "code",
   "execution_count": null,
   "metadata": {},
   "outputs": [],
   "source": [
    "walking_1['GRAVITY'] = np.sqrt(walking_1['GRAVITY X (m/s²)']**2 + walking_1['GRAVITY Y (m/s²)']**2 + walking_1['GRAVITY Z (m/s²)']**2)\n",
    "\n",
    "show_multiple_columns(walking_1, 'datetime', [[ 'GRAVITY X (m/s²)','x'], ['GRAVITY Y (m/s²)', 'y'], ['GRAVITY Z (m/s²)', 'z'], ['GRAVITY', 'total']], 'Gravity', 10000)"
   ]
  },
  {
   "cell_type": "code",
   "execution_count": null,
   "metadata": {},
   "outputs": [],
   "source": [
    "show_multiple_columns(walking_1, 'datetime', [[ 'LINEAR ACCELERATION X (m/s²)','x'], ['LINEAR ACCELERATION Y (m/s²)', 'y'], ['LINEAR ACCELERATION Z (m/s²)', 'z']], 'Linear Acceleration', 10000)"
   ]
  },
  {
   "cell_type": "code",
   "execution_count": null,
   "metadata": {},
   "outputs": [],
   "source": [
    "show_multiple_columns(walking_1, 'datetime', [[ 'GYROSCOPE X (rad/s)','x'], ['GYROSCOPE Y (rad/s)', 'y'], ['GYROSCOPE Z (rad/s)', 'z']], 'Gyroscope', 10000)"
   ]
  },
  {
   "cell_type": "code",
   "execution_count": null,
   "metadata": {},
   "outputs": [],
   "source": [
    "walking_1['MAGNETIC FIELD'] = np.sqrt(walking_1['MAGNETIC FIELD X (μT)']**2 + walking_1['MAGNETIC FIELD Y (μT)']**2 + walking_1['MAGNETIC FIELD Y (μT)']**2)\n",
    "\n",
    "show_multiple_columns(walking_1, 'datetime', [[ 'MAGNETIC FIELD X (μT)','x'], ['MAGNETIC FIELD Y (μT)', 'y'], ['MAGNETIC FIELD Z (μT)', 'z'], ['MAGNETIC FIELD', 'total']], 'Magnetic Field', 10000)"
   ]
  },
  {
   "cell_type": "code",
   "execution_count": null,
   "metadata": {},
   "outputs": [],
   "source": [
    "show_multiple_columns(walking_1, 'datetime', [[ 'ORIENTATION Z (azimuth °)','z (azimuth)'], ['ORIENTATION X (pitch °)', 'x (pitch)'], ['ORIENTATION Y (roll °)', 'y (roll)']], 'Orientation', 10000)"
   ]
  },
  {
   "cell_type": "code",
   "execution_count": null,
   "metadata": {},
   "outputs": [],
   "source": [
    "show_multiple_columns(walking_1, 'datetime', [[ 'LIGHT (lux)','LIGHT (lux)'], ['PROXIMITY (m)', 'PROXIMITY (m)'], ['SOUND LEVEL (dB)', 'SOUND LEVEL (dB)']], 'Multiple Measurements', 10000)"
   ]
  },
  {
   "cell_type": "code",
   "execution_count": null,
   "metadata": {},
   "outputs": [],
   "source": [
    "show_multiple_columns(cycling_2, 'datetime', [\n",
    "        [ 'LOCATION Altitude ( m)','LOCATION Altitude ( m)'],\n",
    "        ['LOCATION Altitude-google ( m)', 'LOCATION Altitude-google ( m)'],\n",
    "        ['LOCATION Speed ( Kmh)', 'LOCATION Speed ( Kmh)'],\n",
    "        ['LOCATION Accuracy ( m)', 'LOCATION Accuracy ( m)'],\n",
    "        ['LOCATION Latitude : ', 'LOCATION Latitude'],\n",
    "        ['LOCATION Longitude : ', 'LOCATION Longitude']\n",
    "    ], 'Multiple Measurements', 10000)"
   ]
  },
  {
   "cell_type": "code",
   "execution_count": null,
   "metadata": {},
   "outputs": [],
   "source": [
    "#added NZ 20221012\n",
    "#acceleration - walking\n",
    "show_multiple_columns(nz_walking,\n",
    "                      'loggingTime(txt)',\n",
    "                      [\n",
    "                          ['accelerometerAccelerationX(G)','x'],\n",
    "                          ['accelerometerAccelerationY(G)', 'y'],\n",
    "                          ['accelerometerAccelerationZ(G)','z']\n",
    "                      ],\n",
    "                     'Acceleration - Walking')"
   ]
  },
  {
   "cell_type": "code",
   "execution_count": null,
   "metadata": {},
   "outputs": [],
   "source": [
    "#added NZ 20221012\n",
    "#acceleration - running\n",
    "show_multiple_columns(nz_running,\n",
    "                      'loggingTime(txt)',\n",
    "                      [\n",
    "                          ['accelerometerAccelerationX(G)','x'],\n",
    "                          ['accelerometerAccelerationY(G)', 'y'],\n",
    "                          ['accelerometerAccelerationZ(G)','z']\n",
    "                      ],\n",
    "                     'Acceleration - Running')"
   ]
  },
  {
   "cell_type": "code",
   "execution_count": null,
   "metadata": {},
   "outputs": [],
   "source": [
    "#added NZ 20221012\n",
    "#acceleration - cycling\n",
    "show_multiple_columns(nz_cycling,\n",
    "                      'loggingTime(txt)',\n",
    "                      [\n",
    "                          ['accelerometerAccelerationX(G)','x'],\n",
    "                          ['accelerometerAccelerationY(G)', 'y'],\n",
    "                          ['accelerometerAccelerationZ(G)','z']\n",
    "                      ],\n",
    "                     'Acceleration - cycling')"
   ]
  },
  {
   "cell_type": "code",
   "execution_count": null,
   "metadata": {},
   "outputs": [],
   "source": [
    "#added NZ 20221012\n",
    "#acceleration - cycling\n",
    "show_multiple_columns(nz_sitting,\n",
    "                      'loggingTime(txt)',\n",
    "                      [\n",
    "                          ['accelerometerAccelerationX(G)','x'],\n",
    "                          ['accelerometerAccelerationY(G)', 'y'],\n",
    "                          ['accelerometerAccelerationZ(G)','z']\n",
    "                      ],\n",
    "                     'Acceleration - sitting')"
   ]
  },
  {
   "cell_type": "code",
   "execution_count": null,
   "metadata": {},
   "outputs": [],
   "source": [
    "#added NZ 20221012\n",
    "##gyroRotationX(rad/s) - walking\n",
    "show_multiple_columns(nz_walking,\n",
    "                      'loggingTime(txt)',\n",
    "                      [\n",
    "                          ['gyroRotationX(rad/s)','x'],\n",
    "                          ['gyroRotationY(rad/s)', 'y'],\n",
    "                          ['gyroRotationZ(rad/s)','z']\n",
    "                      ],\n",
    "                     'Gyro Data - Walking')"
   ]
  },
  {
   "cell_type": "code",
   "execution_count": null,
   "metadata": {},
   "outputs": [],
   "source": [
    "#added NZ 20221012\n",
    "##gyroRotationX(rad/s) - running\n",
    "show_multiple_columns(nz_running,\n",
    "                      'loggingTime(txt)',\n",
    "                      [\n",
    "                          ['gyroRotationX(rad/s)','x'],\n",
    "                          ['gyroRotationY(rad/s)', 'y'],\n",
    "                          ['gyroRotationZ(rad/s)','z']\n",
    "                      ],\n",
    "                     'Gyro Data - running')"
   ]
  },
  {
   "cell_type": "code",
   "execution_count": null,
   "metadata": {},
   "outputs": [],
   "source": [
    "#added NZ 20221012\n",
    "##gyroRotationX(rad/s) - cycling\n",
    "show_multiple_columns(nz_cycling,\n",
    "                      'loggingTime(txt)',\n",
    "                      [\n",
    "                          ['gyroRotationX(rad/s)','x'],\n",
    "                          ['gyroRotationY(rad/s)', 'y'],\n",
    "                          ['gyroRotationZ(rad/s)','z']\n",
    "                      ],\n",
    "                     'Gyro Data - cycling')"
   ]
  },
  {
   "cell_type": "code",
   "execution_count": null,
   "metadata": {},
   "outputs": [],
   "source": [
    "#added NZ 20221012\n",
    "##gyroRotationX(rad/s) - sitting\n",
    "show_multiple_columns(nz_sitting,\n",
    "                      'loggingTime(txt)',\n",
    "                      [\n",
    "                          ['gyroRotationX(rad/s)','x'],\n",
    "                          ['gyroRotationY(rad/s)', 'y'],\n",
    "                          ['gyroRotationZ(rad/s)','z']\n",
    "                      ],\n",
    "                     'Gyro Data - sitting')"
   ]
  },
  {
   "cell_type": "code",
   "execution_count": null,
   "metadata": {},
   "outputs": [],
   "source": [
    "#added NZ 20221012\n",
    "#magnetometerX(µT)- walking\n",
    "show_multiple_columns(nz_walking,\n",
    "                      'loggingTime(txt)',\n",
    "                      [\n",
    "                          ['magnetometerX(µT)','x'],\n",
    "                          ['magnetometerX(µT)', 'y'],\n",
    "                          ['magnetometerX(µT)','z']\n",
    "                      ],\n",
    "                     'Magnetometer - Wakling')"
   ]
  },
  {
   "cell_type": "code",
   "execution_count": null,
   "metadata": {},
   "outputs": [],
   "source": [
    "#added NZ 20221012\n",
    "#magnetometerX(µT)- running\n",
    "show_multiple_columns(nz_running,\n",
    "                      'loggingTime(txt)',\n",
    "                      [\n",
    "                          ['magnetometerX(µT)','x'],\n",
    "                          ['magnetometerX(µT)', 'y'],\n",
    "                          ['magnetometerX(µT)','z']\n",
    "                      ],\n",
    "                     'Magnetometer - Running')"
   ]
  },
  {
   "cell_type": "code",
   "execution_count": null,
   "metadata": {},
   "outputs": [],
   "source": [
    "#added NZ 20221012\n",
    "#magnetometerX(µT)- cycling\n",
    "show_multiple_columns(nz_cycling,\n",
    "                      'loggingTime(txt)',\n",
    "                      [\n",
    "                          ['magnetometerX(µT)','x'],\n",
    "                          ['magnetometerX(µT)', 'y'],\n",
    "                          ['magnetometerX(µT)','z']\n",
    "                      ],\n",
    "                     'Magnetometer - cycling')"
   ]
  },
  {
   "cell_type": "code",
   "execution_count": null,
   "metadata": {},
   "outputs": [],
   "source": [
    "#added NZ 20221012\n",
    "#magnetometerX(µT)- sitting\n",
    "show_multiple_columns(nz_sitting,\n",
    "                      'loggingTime(txt)',\n",
    "                      [\n",
    "                          ['magnetometerX(µT)','x'],\n",
    "                          ['magnetometerX(µT)', 'y'],\n",
    "                          ['magnetometerX(µT)','z']\n",
    "                      ],\n",
    "                     'Magnetometer - sitting')"
   ]
  },
  {
   "cell_type": "code",
   "execution_count": null,
   "metadata": {},
   "outputs": [],
   "source": [
    "#added NZ 20221012\n",
    "#motionGravityX(G)- walking\n",
    "show_multiple_columns(nz_walking,\n",
    "                      'loggingTime(txt)',\n",
    "                      [\n",
    "                          ['motionGravityX(G)','x'],\n",
    "                          ['motionGravityX(G)', 'y'],\n",
    "                          ['motionGravityX(G)','z']\n",
    "                      ],\n",
    "                     'Motion Gravity - Walking')"
   ]
  },
  {
   "cell_type": "code",
   "execution_count": null,
   "metadata": {},
   "outputs": [],
   "source": [
    "#added NZ 20221012\n",
    "#motionGravityX(G)- running\n",
    "show_multiple_columns(nz_running,\n",
    "                      'loggingTime(txt)',\n",
    "                      [\n",
    "                          ['motionGravityX(G)','x'],\n",
    "                          ['motionGravityX(G)', 'y'],\n",
    "                          ['motionGravityX(G)','z']\n",
    "                      ],\n",
    "                     'Motion Gravity - running')"
   ]
  },
  {
   "cell_type": "code",
   "execution_count": null,
   "metadata": {},
   "outputs": [],
   "source": [
    "#added NZ 20221012\n",
    "#motionGravityX(G)- cycling\n",
    "show_multiple_columns(nz_cycling,\n",
    "                      'loggingTime(txt)',\n",
    "                      [\n",
    "                          ['motionGravityX(G)','x'],\n",
    "                          ['motionGravityX(G)', 'y'],\n",
    "                          ['motionGravityX(G)','z']\n",
    "                      ],\n",
    "                     'Motion Gravity - cycling')"
   ]
  },
  {
   "cell_type": "code",
   "execution_count": null,
   "metadata": {},
   "outputs": [],
   "source": [
    "#added NZ 20221012\n",
    "#motionGravityX(G)- sitting\n",
    "show_multiple_columns(nz_sitting,\n",
    "                      'loggingTime(txt)',\n",
    "                      [\n",
    "                          ['motionGravityX(G)','x'],\n",
    "                          ['motionGravityX(G)', 'y'],\n",
    "                          ['motionGravityX(G)','z']\n",
    "                      ],\n",
    "                     'Motion Gravity - sitting')"
   ]
  },
  {
   "cell_type": "code",
   "execution_count": null,
   "metadata": {},
   "outputs": [],
   "source": [
    "#added NZ 20221012\n",
    "#unbiased user data -motionUserAccelerationX(G)- walking\n",
    "show_multiple_columns(nz_walking,\n",
    "                      'loggingTime(txt)',\n",
    "                      [\n",
    "                          ['motionUserAccelerationX(G)','x'],\n",
    "                          ['motionUserAccelerationX(G)', 'y'],\n",
    "                          ['motionUserAccelerationX(G)','z']\n",
    "                      ],\n",
    "                     'Unbiased data user acceleration - walking')"
   ]
  },
  {
   "cell_type": "code",
   "execution_count": null,
   "metadata": {},
   "outputs": [],
   "source": [
    "#added NZ 20221012\n",
    "#unbiased user data -motionUserAccelerationX(G)- running\n",
    "show_multiple_columns(nz_running,\n",
    "                      'loggingTime(txt)',\n",
    "                      [\n",
    "                          ['motionUserAccelerationX(G)','x'],\n",
    "                          ['motionUserAccelerationX(G)', 'y'],\n",
    "                          ['motionUserAccelerationX(G)','z']\n",
    "                      ],\n",
    "                     'Unbiased data user acceleration - Running')"
   ]
  },
  {
   "cell_type": "code",
   "execution_count": null,
   "metadata": {},
   "outputs": [],
   "source": [
    "#added NZ 20221012\n",
    "#unbiased user data -motionUserAccelerationX(G)- cycling\n",
    "show_multiple_columns(nz_cycling,\n",
    "                      'loggingTime(txt)',\n",
    "                      [\n",
    "                          ['motionUserAccelerationX(G)','x'],\n",
    "                          ['motionUserAccelerationX(G)', 'y'],\n",
    "                          ['motionUserAccelerationX(G)','z']\n",
    "                      ],\n",
    "                     'Unbiased data user acceleration - cycling')"
   ]
  },
  {
   "cell_type": "code",
   "execution_count": null,
   "metadata": {},
   "outputs": [],
   "source": [
    "#added NZ 20221012\n",
    "#unbiased user data -motionUserAccelerationX(G)- sitting\n",
    "show_multiple_columns(nz_sitting,\n",
    "                      'loggingTime(txt)',\n",
    "                      [\n",
    "                          ['motionUserAccelerationX(G)','x'],\n",
    "                          ['motionUserAccelerationX(G)', 'y'],\n",
    "                          ['motionUserAccelerationX(G)','z']\n",
    "                      ],\n",
    "                     'Unbiased data user acceleration - sitting')"
   ]
  },
  {
   "cell_type": "markdown",
   "metadata": {},
   "source": [
    "Distributions:"
   ]
  },
  {
   "cell_type": "code",
   "execution_count": null,
   "metadata": {},
   "outputs": [],
   "source": [
    "\n",
    "fig = ff.create_distplot([nz_running[c] for c in nz_running.columns[7:10]], nz_running.columns[7:10], bin_size=.25)\n",
    "fig.show()"
   ]
  },
  {
   "cell_type": "code",
   "execution_count": null,
   "metadata": {},
   "outputs": [],
   "source": [
    "fig = ff.create_distplot([nz_walking[c] for c in nz_walking.columns[7:10]], nz_walking.columns[7:10], bin_size=.25)\n",
    "fig.show()"
   ]
  },
  {
   "cell_type": "code",
   "execution_count": null,
   "metadata": {},
   "outputs": [],
   "source": [
    "\n",
    "fig = ff.create_distplot([nz_cycling[c] for c in nz_cycling.columns[7:10]], nz_cycling.columns[7:10], bin_size=.25)\n",
    "fig.show()"
   ]
  }
 ],
 "metadata": {
  "kernelspec": {
   "display_name": "Python 3 (ipykernel)",
   "language": "python",
   "name": "python3"
  },
  "language_info": {
   "codemirror_mode": {
    "name": "ipython",
    "version": 3
   },
   "file_extension": ".py",
   "mimetype": "text/x-python",
   "name": "python",
   "nbconvert_exporter": "python",
   "pygments_lexer": "ipython3",
   "version": "3.10.2"
  },
  "vscode": {
   "interpreter": {
    "hash": "b1300d74c582e433fb42e1997eddbde559ffc953ada519ef8cefa887b1cf9492"
   }
  }
 },
 "nbformat": 4,
 "nbformat_minor": 2
}
