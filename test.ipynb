{
 "cells": [
  {
   "cell_type": "code",
   "execution_count": null,
   "metadata": {},
   "outputs": [],
   "source": [
    "import csv\n",
    "import numpy as np\n",
    "import pandas as pd\n",
    "import plotly.express as px\n",
    "from plotly.subplots import make_subplots\n",
    "import plotly.graph_objects as go"
   ]
  },
  {
   "cell_type": "code",
   "execution_count": null,
   "metadata": {},
   "outputs": [],
   "source": [
    "\n",
    "meta = pd.DataFrame(\n",
    "    data={\n",
    "        'file': [\n",
    "            'walking_jg_1.csv', 'walking_jg_2.csv', 'walking_jg_3.csv', 'running_jg_1.csv', 'running_jg_2.csv',\n",
    "            'running_nz_1.csv', 'walking_nz_1.csv','walking_nz_2.csv',  # added NZ 20221006\n",
    "            'sitting_jg_1.csv', 'sitting_jg_2.csv', # added JG 20221006\n",
    "            'sitting_nz_3.csv', 'walking_nz_4.csv', 'running_nz_3.csv', #added NZ 20221010\n",
    "            'running_jg_3.csv', 'running_jg_4.csv', 'running_jg_5.csv', # added JG 20221011\n",
    "        ],\n",
    "        'user': [\n",
    "            'jg', 'jg', 'jg', 'jg', 'jg',\n",
    "            'nz','nz','nz', # added NZ 20221006\n",
    "            'jg', 'jg', # added JG 20221006\n",
    "            'nz', 'nz', 'nz', # added NZ 20221010\n",
    "            'jg', 'jg', 'jg', # added JG 20221011\n",
    "        ],\n",
    "        'activity': [\n",
    "            'walking', 'walking', 'walking', 'running', 'running',\n",
    "            'running', 'walking','walking', #added NZ 20221006\n",
    "            'sitting', 'sitting', # added JG 20221006\n",
    "            'sitting', 'walking', 'running' , # added NZ 20221010\n",
    "            'running', 'running', 'running', # added JG 20221011\n",
    "        ],\n",
    "        'pocket': [\n",
    "            'left pant pocket', 'left pant pocket', 'left pant pocket', 'left pant pocket', 'left pant pocket',\n",
    "            'left jacket pocket', 'left jacket pocket', 'left jacket pocket', # added NZ 20221006\n",
    "            'left pant pocket', 'left pant pocket', # added JG 20221006\n",
    "            'left pant pocket', 'left pant pocket', 'left pant pocket', #added NZ 20221010\n",
    "            'left pant pocket', 'left pant pocket', 'left pant pocket', # added JG 20221011\n",
    "        ],\n",
    "        'position_x': [\n",
    "            'screen towards body', 'screen towards body', 'screen towards body', 'screen towards body', 'screen towards body',\n",
    "            'screen not towards body', 'screen not towards body', 'screen towards body', # added NZ 20221006\n",
    "            'screen towards body', 'screen not towards body', # added JG 20221006\n",
    "            'screen not towards body','screen towards body', 'screen not towards body', #added NZ 20221010\n",
    "            'screen not towards body', 'screen not towards body', 'screen not towards body', # added JG 20221011\n",
    "        ],\n",
    "        'position_y': [\n",
    "            'upright', 'upside down', 'upside down', 'upside down', 'upright',\n",
    "            'upright','upright','upright', # added NZ 20221006\n",
    "            'upside down', 'upside down', # added JG 20221006\n",
    "            'upright', 'upside down', 'upright', # added NZ 20221010\n",
    "            'upside down', 'upright', 'upright', # added JG 20221011\n",
    "        ]\n",
    "    }\n",
    ")\n",
    "\n",
    "\n",
    "meta"
   ]
  },
  {
   "cell_type": "code",
   "execution_count": null,
   "metadata": {},
   "outputs": [],
   "source": [
    "pd.read_csv('data/physics_toolbox_suite_g-force_meter.csv')"
   ]
  },
  {
   "cell_type": "code",
   "execution_count": null,
   "metadata": {},
   "outputs": [],
   "source": [
    "pd.read_csv('data/physics_toolbox_suite_multi_record.csv') # 121 per second"
   ]
  },
  {
   "cell_type": "code",
   "execution_count": null,
   "metadata": {},
   "outputs": [],
   "source": [
    "pd.read_csv('data/physics_toolbox_suite_3_sensors.csv') # 80 per second"
   ]
  },
  {
   "cell_type": "code",
   "execution_count": null,
   "metadata": {},
   "outputs": [],
   "source": [
    "nz = pd.read_csv('data/2022-09-27_12_59_37_nz_iOS_device.csv')\n",
    "nz"
   ]
  },
  {
   "cell_type": "code",
   "execution_count": null,
   "metadata": {},
   "outputs": [],
   "source": [
    "# added NZ-20221005\n",
    "# data logged with SensorLog 100hz\n",
    "#nz_w1 = pd.read_csv('data/Walk_nz_pos1.csv')\n",
    "#nz_w2 = pd.read_csv('data/Walk_nz_pos2.csv')\n",
    "#nz_r1 = pd.read_csv('data/Run_nz_pos1.csv')"
   ]
  },
  {
   "cell_type": "code",
   "execution_count": null,
   "metadata": {},
   "outputs": [],
   "source": [
    "jg = pd.read_csv('data/AndroSensor_100hz.csv', sep=';', header=1)\n",
    "jg"
   ]
  },
  {
   "cell_type": "markdown",
   "metadata": {},
   "source": [
    "`data/AndroSensor_100hz.csv` has a setting to record exactly 100hz. In a test of just over a minute it did exactly so."
   ]
  },
  {
   "cell_type": "code",
   "execution_count": null,
   "metadata": {},
   "outputs": [],
   "source": [
    "# added NZ-20221005\n",
    "#nz.columns\n",
    "#nz_w1.columns"
   ]
  },
  {
   "cell_type": "code",
   "execution_count": null,
   "metadata": {},
   "outputs": [],
   "source": [
    "#NZ - pipeline to remove unnecessary columns from SensorLog File and keep only few\n",
    "keep_cols = ['loggingTime(txt)', 'locationLatitude(WGS84)','locationLongitude(WGS84)', \n",
    "             'locationAltitude(m)', 'locationSpeed(m/s)', 'locationSpeedAccuracy(m/s)', 'locationCourse(°)',\n",
    "             'accelerometerAccelerationX(G)', 'accelerometerAccelerationY(G)',\n",
    "             'accelerometerAccelerationZ(G)', 'gyroRotationX(rad/s)', 'gyroRotationY(rad/s)', 'gyroRotationZ(rad/s)',\n",
    "             'magnetometerX(µT)', 'magnetometerY(µT)', 'magnetometerZ(µT)',\n",
    "             'motionYaw(rad)', 'motionRoll(rad)','motionPitch(rad)', 'motionRotationRateX(rad/s)',\n",
    "             'motionRotationRateY(rad/s)', 'motionRotationRateZ(rad/s)',\n",
    "             'motionUserAccelerationX(G)', 'motionUserAccelerationY(G)',\n",
    "             'motionUserAccelerationZ(G)', 'motionGravityX(G)', 'motionGravityY(G)',\n",
    "             'motionGravityZ(G)', 'motionMagneticFieldX(µT)',\n",
    "             'motionMagneticFieldY(µT)', 'motionMagneticFieldZ(µT)']\n",
    "\n",
    "remove_cols = [ 'loggingSample(N)','locationTimestamp_since1970(s)', 'locationCourseAccuracy(°)', 'locationVerticalAccuracy(m)',\n",
    "       'locationHorizontalAccuracy(m)', 'locationFloor(Z)','locationHeadingTimestamp_since1970(s)', 'locationHeadingX(µT)',\n",
    "       'locationHeadingY(µT)', 'locationHeadingZ(µT)','locationTrueHeading(°)', 'locationMagneticHeading(°)',\n",
    "       'locationHeadingAccuracy(°)', 'accelerometerTimestamp_sinceReboot(s)',\n",
    "        'gyroTimestamp_sinceReboot(s)','magnetometerTimestamp_sinceReboot(s)',\n",
    "       'motionTimestamp_sinceReboot(s)', 'motionAttitudeReferenceFrame(txt)',\n",
    "       'motionQuaternionX(R)', 'motionQuaternionY(R)', 'motionQuaternionZ(R)',\n",
    "       'motionQuaternionW(R)', 'motionHeading(°)', 'motionMagneticFieldCalibrationAccuracy(Z)',\n",
    "       'activityTimestamp_sinceReboot(s)', 'activity(txt)', 'activityActivityConfidence(Z)', 'activityActivityStartDate(txt)',\n",
    "       'pedometerStartDate(txt)', 'pedometerNumberofSteps(N)', 'pedometerAverageActivePace(s/m)', 'pedometerCurrentPace(s/m)',\n",
    "       'pedometerCurrentCadence(steps/s)', 'pedometerDistance(m)','pedometerFloorAscended(N)', 'pedometerFloorDescended(N)',\n",
    "       'pedometerEndDate(txt)', 'altimeterTimestamp_sinceReboot(s)','altimeterReset(bool)', 'altimeterRelativeAltitude(m)',\n",
    "       'altimeterPressure(kPa)', 'deviceOrientationTimeStamp_since1970(s)','deviceOrientation(Z)', 'label(N)']"
   ]
  },
  {
   "cell_type": "code",
   "execution_count": null,
   "metadata": {},
   "outputs": [],
   "source": [
    "#nz_w2.drop(remove_cols, axis = 1).round(6).to_csv('df_nz_w2.csv', index = False)"
   ]
  },
  {
   "cell_type": "code",
   "execution_count": null,
   "metadata": {},
   "outputs": [],
   "source": [
    "#nz_r1.drop(remove_cols, axis = 1).round(6).to_csv('df_nz_r1.csv', index = False)"
   ]
  },
  {
   "cell_type": "code",
   "execution_count": null,
   "metadata": {},
   "outputs": [],
   "source": [
    "#nz_w1.drop(remove_cols, axis = 1).round(6).to_csv('df_nz_w1.csv', index = False)\n"
   ]
  },
  {
   "cell_type": "code",
   "execution_count": null,
   "metadata": {},
   "outputs": [],
   "source": []
  },
  {
   "cell_type": "code",
   "execution_count": null,
   "metadata": {},
   "outputs": [],
   "source": [
    "# added NZ-20221005\n",
    "# 75 columns\n",
    "#nz_w1.head()"
   ]
  },
  {
   "cell_type": "code",
   "execution_count": null,
   "metadata": {},
   "outputs": [],
   "source": [
    "# added NZ-20221005\n",
    "# loggingTime(txt) to datetime format (is different data format)\n",
    "# with Timezone\n",
    "\n",
    "#nz_w1['loggingTime(txt)'] = pd.to_datetime(nz_w1['loggingTime(txt)'], format = '%Y-%m-%dT%H:%M:%S.%f')\n",
    "#nz_w2['loggingTime(txt)'] = pd.to_datetime(nz_w2['loggingTime(txt)'], format = '%Y-%m-%dT%H:%M:%S.%f')\n",
    "#nz_r1['loggingTime(txt)'] = pd.to_datetime(nz_r1['loggingTime(txt)'], format = '%Y-%m-%dT%H:%M:%S.%f')"
   ]
  },
  {
   "cell_type": "code",
   "execution_count": null,
   "metadata": {},
   "outputs": [],
   "source": [
    "# added NZ 20221005\n",
    "nz_w1.dtypes\n",
    "nz_w1.head()"
   ]
  },
  {
   "cell_type": "code",
   "execution_count": null,
   "metadata": {},
   "outputs": [],
   "source": [
    "jg.columns\n",
    "jg.head()"
   ]
  },
  {
   "cell_type": "code",
   "execution_count": null,
   "metadata": {},
   "outputs": [],
   "source": [
    "walking_1 = pd.read_csv('data/walking_test_jg.csv', sep=';', header=1)\n",
    "\n",
    "def read_jg_file(file):\n",
    "    df = pd.read_csv(f'data/{file}.csv', sep=';', header=1)[1200:-1200]\n",
    "    df['datetime'] = pd.to_datetime(df['YYYY-MO-DD HH-MI-SS_SSS'], format='%Y-%m-%d %H:%M:%S:%f')\n",
    "    \n",
    "    return df\n",
    "\n",
    "for i in meta[meta['user'] == 'jg']['file'].tolist():\n",
    "    print(i)\n",
    "\n",
    "walking_1 = read_jg_file('walking_jg_1')\n",
    "walking_2 = read_jg_file('walking_jg_2')\n",
    "walking_3 = read_jg_file('walking_jg_3')\n",
    "running_1 = read_jg_file('running_jg_1')\n",
    "running_2 = read_jg_file('running_jg_2')\n",
    "running_3 = read_jg_file('running_jg_3')\n",
    "running_4 = read_jg_file('running_jg_4')\n",
    "running_5 = read_jg_file('running_jg_5')\n",
    "sitting_1 = read_jg_file('sitting_jg_1')\n",
    "sitting_2 = read_jg_file('sitting_jg_2')"
   ]
  },
  {
   "cell_type": "code",
   "execution_count": null,
   "metadata": {},
   "outputs": [],
   "source": [
    "walking_1.columns"
   ]
  },
  {
   "cell_type": "code",
   "execution_count": null,
   "metadata": {},
   "outputs": [],
   "source": [
    "def show_multiple_columns(df, x, y_variables, title):\n",
    "    fig = make_subplots(\n",
    "        rows=len(y_variables), cols=1, shared_xaxes=True, vertical_spacing=0.02)\n",
    "\n",
    "    if isinstance(df, list):\n",
    "        for i, (my_df, var) in enumerate(zip(df, y_variables)):\n",
    "            fig.add_trace(\n",
    "                go.Scatter(x=my_df[x], y=my_df[var[0]], name = var[1]),\n",
    "                row=i + 1,\n",
    "                col=1\n",
    "            )\n",
    "    else:\n",
    "        for i, var in enumerate(y_variables):\n",
    "            fig.add_trace(\n",
    "                go.Scatter(x=df[x], y=df[var[0]], name = var[1]),\n",
    "                row=i + 1,\n",
    "                col=1\n",
    "            )\n",
    "\n",
    "    fig.update_layout(\n",
    "        height=len(y_variables) * 120,\n",
    "        width=1000,\n",
    "        title_text=title,\n",
    "        legend=dict(\n",
    "            orientation=\"h\",\n",
    "            yanchor=\"top\",\n",
    "            y=-0.30 / len(y_variables),\n",
    "            xanchor=\"right\",\n",
    "            x=1\n",
    "        ),\n",
    "        margin=dict(l=15, r=15, t=50, b=15)\n",
    "    )\n",
    "\n",
    "    fig.show()"
   ]
  },
  {
   "cell_type": "code",
   "execution_count": null,
   "metadata": {},
   "outputs": [],
   "source": [
    "show_multiple_columns(\n",
    "    [walking_1, walking_2, walking_3, running_1, running_2, running_3, running_4, running_5, sitting_1, sitting_2],\n",
    "    'Time since start in ms ',\n",
    "    [\n",
    "        [ 'GRAVITY X (m/s²)','walking 1'], [ 'GRAVITY X (m/s²)','walking 2'], [ 'GRAVITY X (m/s²)','walking 3'],\n",
    "        ['GRAVITY X (m/s²)', 'running 1'], ['GRAVITY X (m/s²)', 'running 2'], ['GRAVITY X (m/s²)', 'running 3'], ['GRAVITY X (m/s²)', 'running 4'],\n",
    "        ['GRAVITY X (m/s²)', 'sitting 1'], ['GRAVITY X (m/s²)', 'sitting 2']],\n",
    "    'Gravity'\n",
    ")"
   ]
  },
  {
   "cell_type": "code",
   "execution_count": null,
   "metadata": {},
   "outputs": [],
   "source": [
    "show_multiple_columns(walking_1, 'datetime', [[ 'ACCELEROMETER X (m/s²)','x'], ['ACCELEROMETER Y (m/s²)', 'y'], ['ACCELEROMETER Z (m/s²)', 'z']], 'Accelerometer')"
   ]
  },
  {
   "cell_type": "code",
   "execution_count": null,
   "metadata": {},
   "outputs": [],
   "source": [
    "show_multiple_columns(walking_1, 'datetime', [[ 'GRAVITY X (m/s²)','x'], ['GRAVITY Y (m/s²)', 'y'], ['GRAVITY Z (m/s²)', 'z']], 'Gravity')"
   ]
  },
  {
   "cell_type": "code",
   "execution_count": null,
   "metadata": {},
   "outputs": [],
   "source": [
    "show_multiple_columns(walking_1, 'datetime', [[ 'LINEAR ACCELERATION X (m/s²)','x'], ['LINEAR ACCELERATION Y (m/s²)', 'y'], ['LINEAR ACCELERATION Z (m/s²)', 'z']], 'Linear Acceleration')"
   ]
  },
  {
   "cell_type": "code",
   "execution_count": null,
   "metadata": {},
   "outputs": [],
   "source": [
    "show_multiple_columns(walking_1, 'datetime', [[ 'GYROSCOPE X (rad/s)','x'], ['GYROSCOPE Y (rad/s)', 'y'], ['GYROSCOPE Z (rad/s)', 'z']], 'Gyroscope')"
   ]
  },
  {
   "cell_type": "code",
   "execution_count": null,
   "metadata": {},
   "outputs": [],
   "source": [
    "show_multiple_columns(walking_1, 'datetime', [[ 'MAGNETIC FIELD X (μT)','x'], ['MAGNETIC FIELD Y (μT)', 'y'], ['MAGNETIC FIELD Z (μT)', 'z']], 'Magnetic Field')"
   ]
  },
  {
   "cell_type": "code",
   "execution_count": null,
   "metadata": {},
   "outputs": [],
   "source": [
    "show_multiple_columns(walking_1, 'datetime', [[ 'ORIENTATION Z (azimuth °)','z (azimuth)'], ['ORIENTATION X (pitch °)', 'x (pitch)'], ['ORIENTATION Y (roll °)', 'y (roll)']], 'Orientation')"
   ]
  },
  {
   "cell_type": "code",
   "execution_count": null,
   "metadata": {},
   "outputs": [],
   "source": [
    "show_multiple_columns(walking_1, 'datetime', [[ 'LIGHT (lux)','LIGHT (lux)'], ['PROXIMITY (m)', 'PROXIMITY (m)'], ['SOUND LEVEL (dB)', 'SOUND LEVEL (dB)']], 'Multiple Measurements')"
   ]
  },
  {
   "cell_type": "code",
   "execution_count": null,
   "metadata": {},
   "outputs": [],
   "source": [
    "#added NZ 20221005\n",
    "#acceleration - walking-position1\n",
    "show_multiple_columns(nz_w1,\n",
    "                      'loggingTime(txt)',\n",
    "                      [\n",
    "                          ['accelerometerAccelerationX(G)','x'],\n",
    "                          ['accelerometerAccelerationY(G)', 'y'],\n",
    "                          ['accelerometerAccelerationZ(G)','z']\n",
    "                      ],\n",
    "                     'Acceleration - Walk')"
   ]
  },
  {
   "cell_type": "code",
   "execution_count": null,
   "metadata": {},
   "outputs": [],
   "source": [
    "#added NZ 20221005\n",
    "#acceleration - walking - position 2\n",
    "show_multiple_columns(nz_w2,\n",
    "                      'loggingTime(txt)',\n",
    "                      [\n",
    "                          ['accelerometerAccelerationX(G)','x'],\n",
    "                          ['accelerometerAccelerationY(G)', 'y'],\n",
    "                          ['accelerometerAccelerationZ(G)','z']\n",
    "                      ],\n",
    "                     'Acceleration - walk-position 2')"
   ]
  },
  {
   "cell_type": "code",
   "execution_count": null,
   "metadata": {},
   "outputs": [],
   "source": [
    "#added NZ 20221005\n",
    "#acceleration - Run - position 1\n",
    "show_multiple_columns(nz_r1,\n",
    "                      'loggingTime(txt)',\n",
    "                      [\n",
    "                          ['accelerometerAccelerationX(G)','x'],\n",
    "                          ['accelerometerAccelerationY(G)', 'y'],\n",
    "                          ['accelerometerAccelerationZ(G)','z']\n",
    "                      ],\n",
    "                     'Acceleration - Run- position 1')"
   ]
  },
  {
   "cell_type": "code",
   "execution_count": null,
   "metadata": {},
   "outputs": [],
   "source": [
    "#added NZ 20221005\n",
    "##gyroRotationX(rad/s) - walk - position 1\n",
    "show_multiple_columns(nz_w1,\n",
    "                      'loggingTime(txt)',\n",
    "                      [\n",
    "                          ['gyroRotationX(rad/s)','x'],\n",
    "                          ['gyroRotationY(rad/s)', 'y'],\n",
    "                          ['gyroRotationZ(rad/s)','z']\n",
    "                      ],\n",
    "                     'Gyro Data - Walk - 1')"
   ]
  },
  {
   "cell_type": "code",
   "execution_count": null,
   "metadata": {},
   "outputs": [],
   "source": [
    "#added NZ 20221005\n",
    "##gyroRotationX(rad/s) - walk - position 2\n",
    "show_multiple_columns(nz_w2,\n",
    "                      'locationHeadingTimestamp_since1970(s)',\n",
    "                      [\n",
    "                          ['gyroRotationX(rad/s)','x'],\n",
    "                          ['gyroRotationY(rad/s)', 'y'],\n",
    "                          ['gyroRotationZ(rad/s)','z']\n",
    "                      ],\n",
    "                     'Gyro Data - Walk - position 2')"
   ]
  },
  {
   "cell_type": "code",
   "execution_count": null,
   "metadata": {},
   "outputs": [],
   "source": [
    "#added NZ 20221005\n",
    "##gyroRotationX(rad/s) - run - position 1\n",
    "show_multiple_columns(nz_r1,\n",
    "                      'locationHeadingTimestamp_since1970(s)',\n",
    "                      [\n",
    "                          ['gyroRotationX(rad/s)','x'],\n",
    "                          ['gyroRotationY(rad/s)', 'y'],\n",
    "                          ['gyroRotationZ(rad/s)','z']\n",
    "                      ],\n",
    "                     'Gyro Data - Run - position 1')"
   ]
  },
  {
   "cell_type": "code",
   "execution_count": null,
   "metadata": {},
   "outputs": [],
   "source": [
    "#added NZ 20221005\n",
    "#magnetometerX(µT)- walk - position 1\n",
    "show_multiple_columns(nz_w1,\n",
    "                      'locationHeadingTimestamp_since1970(s)',\n",
    "                      [\n",
    "                          ['magnetometerX(µT)','x'],\n",
    "                          ['magnetometerX(µT)', 'y'],\n",
    "                          ['magnetometerX(µT)','z']\n",
    "                      ],\n",
    "                     'Magnetometer - Walk - position 1')"
   ]
  },
  {
   "cell_type": "code",
   "execution_count": null,
   "metadata": {},
   "outputs": [],
   "source": [
    "#added NZ 20221005\n",
    "#magnetometerX(µT)- walk - position 2\n",
    "show_multiple_columns(nz_w2,\n",
    "                      'locationHeadingTimestamp_since1970(s)',\n",
    "                      [\n",
    "                          ['magnetometerX(µT)','x'],\n",
    "                          ['magnetometerX(µT)', 'y'],\n",
    "                          ['magnetometerX(µT)','z']\n",
    "                      ],\n",
    "                     'Magnetometer - Walk - position 2')"
   ]
  },
  {
   "cell_type": "code",
   "execution_count": null,
   "metadata": {},
   "outputs": [],
   "source": [
    "#added NZ 20221005\n",
    "#magnetometerX(µT)- run - position 1\n",
    "show_multiple_columns(nz_r1,\n",
    "                      'locationHeadingTimestamp_since1970(s)',\n",
    "                      [\n",
    "                          ['magnetometerX(µT)','x'],\n",
    "                          ['magnetometerX(µT)', 'y'],\n",
    "                          ['magnetometerX(µT)','z']\n",
    "                      ],\n",
    "                     'Magnetometer - run - position 1')"
   ]
  },
  {
   "cell_type": "code",
   "execution_count": null,
   "metadata": {},
   "outputs": [],
   "source": [
    "#added NZ 20221005\n",
    "#motionGravityX(G)- walk - position 1\n",
    "show_multiple_columns(nz_w1,\n",
    "                      'locationHeadingTimestamp_since1970(s)',\n",
    "                      [\n",
    "                          ['motionGravityX(G)','x'],\n",
    "                          ['motionGravityX(G)', 'y'],\n",
    "                          ['motionGravityX(G)','z']\n",
    "                      ],\n",
    "                     'Magnetometer - Walk - position 1')"
   ]
  },
  {
   "cell_type": "code",
   "execution_count": null,
   "metadata": {},
   "outputs": [],
   "source": [
    "#added NZ 20221005\n",
    "#motionGravityX(G)- walk - position 2\n",
    "show_multiple_columns(nz_w2,\n",
    "                      'locationHeadingTimestamp_since1970(s)',\n",
    "                      [\n",
    "                          ['motionGravityX(G)','x'],\n",
    "                          ['motionGravityX(G)', 'y'],\n",
    "                          ['motionGravityX(G)','z']\n",
    "                      ],\n",
    "                     'Magnetometer - Walk - position 2')"
   ]
  },
  {
   "cell_type": "code",
   "execution_count": null,
   "metadata": {},
   "outputs": [],
   "source": [
    "#added NZ 20221005\n",
    "#motionGravityX(G)- Run - position 1\n",
    "show_multiple_columns(nz_r1,\n",
    "                      'locationHeadingTimestamp_since1970(s)',\n",
    "                      [\n",
    "                          ['motionGravityX(G)','x'],\n",
    "                          ['motionGravityX(G)', 'y'],\n",
    "                          ['motionGravityX(G)','z']\n",
    "                      ],\n",
    "                     'Magnetometer - Run - position 1')"
   ]
  },
  {
   "cell_type": "code",
   "execution_count": null,
   "metadata": {},
   "outputs": [],
   "source": [
    "#added NZ 20221005\n",
    "#unbiased user data -motionUserAccelerationX(G)- walk - position 1\n",
    "show_multiple_columns(nz_w1,\n",
    "                      'locationHeadingTimestamp_since1970(s)',\n",
    "                      [\n",
    "                          ['motionUserAccelerationX(G)','x'],\n",
    "                          ['motionUserAccelerationX(G)', 'y'],\n",
    "                          ['motionUserAccelerationX(G)','z']\n",
    "                      ],\n",
    "                     'Unbiased data user acceleration - Walk - position 1')"
   ]
  },
  {
   "cell_type": "code",
   "execution_count": null,
   "metadata": {},
   "outputs": [],
   "source": [
    "#added NZ 20221005\n",
    "#unbiased user data -motionUserAccelerationX(G)- walk - position 2\n",
    "show_multiple_columns(nz_w2,\n",
    "                      'locationHeadingTimestamp_since1970(s)',\n",
    "                      [\n",
    "                          ['motionUserAccelerationX(G)','x'],\n",
    "                          ['motionUserAccelerationX(G)', 'y'],\n",
    "                          ['motionUserAccelerationX(G)','z']\n",
    "                      ],\n",
    "                     'Unbiased data user acceleration - Walk - position 2')"
   ]
  },
  {
   "cell_type": "code",
   "execution_count": null,
   "metadata": {},
   "outputs": [],
   "source": [
    "#added NZ 20221005\n",
    "#unbiased user data -motionUserAccelerationX(G)- Run - position 1\n",
    "show_multiple_columns(nz_r1,\n",
    "                      'locationHeadingTimestamp_since1970(s)',\n",
    "                      [\n",
    "                          ['motionUserAccelerationX(G)','x'],\n",
    "                          ['motionUserAccelerationX(G)', 'y'],\n",
    "                          ['motionUserAccelerationX(G)','z']\n",
    "                      ],\n",
    "                     'Unbiased data user acceleration - Run - position 1')"
   ]
  },
  {
   "cell_type": "code",
   "execution_count": null,
   "metadata": {},
   "outputs": [],
   "source": []
  }
 ],
 "metadata": {
  "kernelspec": {
   "display_name": "Python 3 (ipykernel)",
   "language": "python",
   "name": "python3"
  },
  "language_info": {
   "codemirror_mode": {
    "name": "ipython",
    "version": 3
   },
   "file_extension": ".py",
   "mimetype": "text/x-python",
   "name": "python",
   "nbconvert_exporter": "python",
   "pygments_lexer": "ipython3",
   "version": "3.10.2"
  },
  "vscode": {
   "interpreter": {
    "hash": "b1300d74c582e433fb42e1997eddbde559ffc953ada519ef8cefa887b1cf9492"
   }
  }
 },
 "nbformat": 4,
 "nbformat_minor": 2
}
