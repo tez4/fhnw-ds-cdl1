{
 "cells": [
  {
   "cell_type": "code",
   "execution_count": null,
   "metadata": {},
   "outputs": [],
   "source": [
    "import csv\n",
    "import numpy as np\n",
    "import pandas as pd\n",
    "import plotly.express as px\n",
    "from plotly.subplots import make_subplots\n",
    "import plotly.graph_objects as go"
   ]
  },
  {
   "cell_type": "code",
   "execution_count": null,
   "metadata": {},
   "outputs": [],
   "source": [
    "pd.read_csv('data/physics_toolbox_suite_g-force_meter.csv')"
   ]
  },
  {
   "cell_type": "code",
   "execution_count": null,
   "metadata": {},
   "outputs": [],
   "source": [
    "pd.read_csv('data/physics_toolbox_suite_multi_record.csv') # 121 per second"
   ]
  },
  {
   "cell_type": "code",
   "execution_count": null,
   "metadata": {},
   "outputs": [],
   "source": [
    "pd.read_csv('data/physics_toolbox_suite_3_sensors.csv') # 80 per second"
   ]
  },
  {
   "cell_type": "code",
   "execution_count": null,
   "metadata": {},
   "outputs": [],
   "source": [
    "nz = pd.read_csv('data/2022-09-27_12_59_37_nz_iOS_device.csv')\n",
    "nz"
   ]
  },
  {
   "cell_type": "code",
   "execution_count": null,
   "metadata": {},
   "outputs": [],
   "source": [
    "jg = pd.read_csv('data/AndroSensor_100hz.csv', sep=';', header=1)\n",
    "jg"
   ]
  },
  {
   "cell_type": "markdown",
   "metadata": {},
   "source": [
    "`data/AndroSensor_100hz.csv` has a setting to record exactly 100hz. In a test of just over a minute it did exactly so."
   ]
  },
  {
   "cell_type": "code",
   "execution_count": null,
   "metadata": {},
   "outputs": [],
   "source": [
    "nz.columns"
   ]
  },
  {
   "cell_type": "code",
   "execution_count": null,
   "metadata": {},
   "outputs": [],
   "source": [
    "jg.columns"
   ]
  },
  {
   "cell_type": "code",
   "execution_count": null,
   "metadata": {},
   "outputs": [],
   "source": [
    "walking_1 = pd.read_csv('data/walking_test_jg.csv', sep=';', header=1)\n",
    "walking_1 = pd.read_csv('data/walking_jg.csv', sep=';', header=1)\n",
    "walking_1['datetime'] = pd.to_datetime(walking_1['YYYY-MO-DD HH-MI-SS_SSS'], format='%Y-%m-%d %H:%M:%S:%f')\n",
    "walking_1\n",
    "\n",
    "running_1 = pd.read_csv('data/running_jg_1.csv', sep=';', header=1)\n",
    "running_1['datetime'] = pd.to_datetime(running_1['YYYY-MO-DD HH-MI-SS_SSS'], format='%Y-%m-%d %H:%M:%S:%f')\n",
    "\n",
    "running_2 = pd.read_csv('data/running_jg_2.csv', sep=';', header=1)\n",
    "running_2['datetime'] = pd.to_datetime(running_1['YYYY-MO-DD HH-MI-SS_SSS'], format='%Y-%m-%d %H:%M:%S:%f')"
   ]
  },
  {
   "cell_type": "code",
   "execution_count": null,
   "metadata": {},
   "outputs": [],
   "source": [
    "walking_1.columns"
   ]
  },
  {
   "cell_type": "code",
   "execution_count": null,
   "metadata": {},
   "outputs": [],
   "source": [
    "def show_multiple_columns(df, x, y_variables, title):\n",
    "    fig = make_subplots(\n",
    "        rows=3, cols=1, shared_xaxes=True, vertical_spacing=0.02)\n",
    "\n",
    "    if isinstance(df, list):\n",
    "        for i, (my_df, var) in enumerate(zip(df, y_variables)):\n",
    "            fig.add_trace(\n",
    "                go.Scatter(x=my_df[x], y=my_df[var[0]], name = var[1]),\n",
    "                row=i + 1,\n",
    "                col=1\n",
    "            )\n",
    "    else:\n",
    "        for i, var in enumerate(y_variables):\n",
    "            fig.add_trace(\n",
    "                go.Scatter(x=df[x], y=df[var[0]], name = var[1]),\n",
    "                row=i + 1,\n",
    "                col=1\n",
    "            )\n",
    "\n",
    "    fig.update_layout(height=800, width=1800, title_text=title)\n",
    "\n",
    "    fig.show()"
   ]
  },
  {
   "cell_type": "code",
   "execution_count": null,
   "metadata": {},
   "outputs": [],
   "source": []
  },
  {
   "cell_type": "code",
   "execution_count": null,
   "metadata": {},
   "outputs": [],
   "source": [
    "show_multiple_columns([walking_1, running_1, running_2], 'Time since start in ms ', [[ 'GRAVITY X (m/s²)','walking'], ['GRAVITY X (m/s²)', 'running 1'], ['GRAVITY X (m/s²)', 'running 2']], 'Gravity')"
   ]
  },
  {
   "cell_type": "code",
   "execution_count": null,
   "metadata": {},
   "outputs": [],
   "source": [
    "show_multiple_columns(walking_1, 'datetime', [[ 'ACCELEROMETER X (m/s²)','x'], ['ACCELEROMETER Y (m/s²)', 'y'], ['ACCELEROMETER Z (m/s²)', 'z']], 'Accelerometer')"
   ]
  },
  {
   "cell_type": "code",
   "execution_count": null,
   "metadata": {},
   "outputs": [],
   "source": [
    "show_multiple_columns(walking_1, 'datetime', [[ 'GRAVITY X (m/s²)','x'], ['GRAVITY Y (m/s²)', 'y'], ['GRAVITY Z (m/s²)', 'z']], 'Gravity')"
   ]
  },
  {
   "cell_type": "code",
   "execution_count": null,
   "metadata": {},
   "outputs": [],
   "source": [
    "show_multiple_columns(walking_1, 'datetime', [[ 'LINEAR ACCELERATION X (m/s²)','x'], ['LINEAR ACCELERATION Y (m/s²)', 'y'], ['LINEAR ACCELERATION Z (m/s²)', 'z']], 'Linear Acceleration')"
   ]
  },
  {
   "cell_type": "code",
   "execution_count": null,
   "metadata": {},
   "outputs": [],
   "source": [
    "show_multiple_columns(walking_1, 'datetime', [[ 'GYROSCOPE X (rad/s)','x'], ['GYROSCOPE Y (rad/s)', 'y'], ['GYROSCOPE Z (rad/s)', 'z']], 'Gyroscope')"
   ]
  },
  {
   "cell_type": "code",
   "execution_count": null,
   "metadata": {},
   "outputs": [],
   "source": [
    "show_multiple_columns(walking_1, 'datetime', [[ 'MAGNETIC FIELD X (μT)','x'], ['MAGNETIC FIELD Y (μT)', 'y'], ['MAGNETIC FIELD Z (μT)', 'z']], 'Magnetic Field')"
   ]
  },
  {
   "cell_type": "code",
   "execution_count": null,
   "metadata": {},
   "outputs": [],
   "source": [
    "show_multiple_columns(walking_1, 'datetime', [[ 'ORIENTATION Z (azimuth °)','z (azimuth)'], ['ORIENTATION X (pitch °)', 'x (pitch)'], ['ORIENTATION Y (roll °)', 'y (roll)']], 'Orientation')"
   ]
  },
  {
   "cell_type": "code",
   "execution_count": null,
   "metadata": {},
   "outputs": [],
   "source": [
    "show_multiple_columns(walking_1, 'datetime', [[ 'LIGHT (lux)','LIGHT (lux)'], ['PROXIMITY (m)', 'PROXIMITY (m)'], ['SOUND LEVEL (dB)', 'SOUND LEVEL (dB)']], 'Multiple Measurements')"
   ]
  }
 ],
 "metadata": {
  "kernelspec": {
   "display_name": "Python 3 (ipykernel)",
   "language": "python",
   "name": "python3"
  },
  "language_info": {
   "codemirror_mode": {
    "name": "ipython",
    "version": 3
   },
   "file_extension": ".py",
   "mimetype": "text/x-python",
   "name": "python",
   "nbconvert_exporter": "python",
   "pygments_lexer": "ipython3",
   "version": "3.10.2"
  },
  "vscode": {
   "interpreter": {
    "hash": "b1300d74c582e433fb42e1997eddbde559ffc953ada519ef8cefa887b1cf9492"
   }
  }
 },
 "nbformat": 4,
 "nbformat_minor": 2
}
