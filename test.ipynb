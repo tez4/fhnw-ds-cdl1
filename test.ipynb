{
 "cells": [
  {
   "cell_type": "code",
   "execution_count": null,
   "metadata": {},
   "outputs": [],
   "source": [
    "import csv\n",
    "import numpy as np\n",
    "import pandas as pd\n",
    "import plotly.express as px\n",
    "from plotly.subplots import make_subplots\n",
    "import plotly.graph_objects as go"
   ]
  },
  {
   "cell_type": "code",
   "execution_count": null,
   "metadata": {},
   "outputs": [],
   "source": [
    "\n",
    "meta = pd.DataFrame(\n",
    "    data={\n",
    "        'file': ['walking_jg_1.csv', 'walking_jg_2.csv', 'walking_jg_3.csv', 'running_jg_1.csv', 'running_jg_2.csv'],\n",
    "        'user': ['jg', 'jg', 'jg', 'jg', 'jg'],\n",
    "        'activity': ['walking', 'walking', 'walking', 'running', 'running'],\n",
    "        'pocket': ['left pocket', 'left pocket', 'left pocket', 'left pocket', 'left pocket'],\n",
    "        'position_x': ['screen towards leg', 'screen towards leg', 'screen towards leg', 'screen towards leg', 'screen towards leg'],\n",
    "        'position_y': ['upright', 'upside down', 'upside down', 'upside down', 'upright']\n",
    "    }\n",
    ")\n",
    "\n",
    "\n",
    "meta = pd.DataFrame(\n",
    "    data={\n",
    "        'file': ['walking_jg_1.csv', 'running_jg_1.csv', 'running_jg_2.csv',\n",
    "                 'Run_nz_pos1.csv', 'Walk_nz_pos1.csv','Walk_nz_pos2.csv'], # added NZ 20221005\n",
    "        'activity': ['walking', 'running', 'running',\n",
    "                    'running', 'walking','walking'], #added NZ 20221005\n",
    "        'position': ['left pocket, screen towards leg, upright', 'left pocket, screen towards leg, upside down', 'left pocket, screen towards leg, upright',\n",
    "                    'left pocket,jacket top,screen front upright','left pocket,jacket top,screen front upright','left pocket,jacket top,screen back upright'] #added NZ 20221005\n",
    "    }\n",
    ")\n",
    "\n",
    "meta"
   ]
  },
  {
   "cell_type": "code",
   "execution_count": null,
   "metadata": {},
   "outputs": [],
   "source": [
    "pd.read_csv('data/physics_toolbox_suite_g-force_meter.csv')"
   ]
  },
  {
   "cell_type": "code",
   "execution_count": null,
   "metadata": {},
   "outputs": [],
   "source": [
    "pd.read_csv('data/physics_toolbox_suite_multi_record.csv') # 121 per second"
   ]
  },
  {
   "cell_type": "code",
   "execution_count": null,
   "metadata": {},
   "outputs": [],
   "source": [
    "pd.read_csv('data/physics_toolbox_suite_3_sensors.csv') # 80 per second"
   ]
  },
  {
   "cell_type": "code",
   "execution_count": null,
   "metadata": {},
   "outputs": [],
   "source": [
    "nz = pd.read_csv('data/2022-09-27_12_59_37_nz_iOS_device.csv')\n",
    "nz"
   ]
  },
  {
   "cell_type": "code",
   "execution_count": null,
   "metadata": {},
   "outputs": [],
   "source": [
    "# added NZ-20221005\n",
    "# data logged with SensorLog 100hz\n",
    "nz_w1 = pd.read_csv('data/Walk_nz_pos1.csv')\n",
    "nz_w2 = pd.read_csv('data/Walk_nz_pos2.csv')\n",
    "nz_r1 = pd.read_csv('data/Run_nz_pos1.csv')"
   ]
  },
  {
   "cell_type": "code",
   "execution_count": null,
   "metadata": {},
   "outputs": [],
   "source": [
    "jg = pd.read_csv('data/AndroSensor_100hz.csv', sep=';', header=1)\n",
    "jg"
   ]
  },
  {
   "cell_type": "markdown",
   "metadata": {},
   "source": [
    "`data/AndroSensor_100hz.csv` has a setting to record exactly 100hz. In a test of just over a minute it did exactly so."
   ]
  },
  {
   "cell_type": "code",
   "execution_count": null,
   "metadata": {},
   "outputs": [],
   "source": [
    "# added NZ-20221005\n",
    "#nz.columns\n",
    "nz_w1.columns"
   ]
  },
  {
   "cell_type": "code",
   "execution_count": null,
   "metadata": {},
   "outputs": [],
   "source": [
    "# added NZ-20221005\n",
    "# 75 columns\n",
    "nz_w1.head()"
   ]
  },
  {
   "cell_type": "code",
   "execution_count": null,
   "metadata": {},
   "outputs": [],
   "source": [
    "# added NZ-20221005\n",
    "# loggingTime(txt) to datetime format (is different data format)\n",
    "# with Timezone\n",
    "\n",
    "nz_w1['loggingTime(txt)'] = pd.to_datetime(nz_w1['loggingTime(txt)'], format = '%Y-%m-%dT%H:%M:%S.%f')\n",
    "nz_w2['loggingTime(txt)'] = pd.to_datetime(nz_w2['loggingTime(txt)'], format = '%Y-%m-%dT%H:%M:%S.%f')\n",
    "nz_r1['loggingTime(txt)'] = pd.to_datetime(nz_r1['loggingTime(txt)'], format = '%Y-%m-%dT%H:%M:%S.%f')"
   ]
  },
  {
   "cell_type": "code",
   "execution_count": null,
   "metadata": {},
   "outputs": [],
   "source": [
    "# added NZ 20221005\n",
    "nz_w1.dtypes\n",
    "nz_w1.head()"
   ]
  },
  {
   "cell_type": "code",
   "execution_count": null,
   "metadata": {},
   "outputs": [],
   "source": [
    "jg.columns\n",
    "jg.head()"
   ]
  },
  {
   "cell_type": "code",
   "execution_count": null,
   "metadata": {},
   "outputs": [],
   "source": [
    "walking_1 = pd.read_csv('data/walking_test_jg.csv', sep=';', header=1)\n",
    "walking_1 = pd.read_csv('data/walking_jg_1.csv', sep=';', header=1)\n",
    "walking_1['datetime'] = pd.to_datetime(walking_1['YYYY-MO-DD HH-MI-SS_SSS'], format='%Y-%m-%d %H:%M:%S:%f')\n",
    "walking_1\n",
    "\n",
    "running_1 = pd.read_csv('data/running_jg_1.csv', sep=';', header=1)\n",
    "running_1['datetime'] = pd.to_datetime(running_1['YYYY-MO-DD HH-MI-SS_SSS'], format='%Y-%m-%d %H:%M:%S:%f')\n",
    "\n",
    "running_2 = pd.read_csv('data/running_jg_2.csv', sep=';', header=1)\n",
    "running_2['datetime'] = pd.to_datetime(running_1['YYYY-MO-DD HH-MI-SS_SSS'], format='%Y-%m-%d %H:%M:%S:%f')"
   ]
  },
  {
   "cell_type": "code",
   "execution_count": null,
   "metadata": {},
   "outputs": [],
   "source": [
    "walking_1.columns"
   ]
  },
  {
   "cell_type": "code",
   "execution_count": null,
   "metadata": {},
   "outputs": [],
   "source": [
    "def show_multiple_columns(df, x, y_variables, title):\n",
    "    fig = make_subplots(\n",
    "        rows=3, cols=1, shared_xaxes=True, vertical_spacing=0.02)\n",
    "\n",
    "    if isinstance(df, list):\n",
    "        for i, (my_df, var) in enumerate(zip(df, y_variables)):\n",
    "            fig.add_trace(\n",
    "                go.Scatter(x=my_df[x], y=my_df[var[0]], name = var[1]),\n",
    "                row=i + 1,\n",
    "                col=1\n",
    "            )\n",
    "    else:\n",
    "        for i, var in enumerate(y_variables):\n",
    "            fig.add_trace(\n",
    "                go.Scatter(x=df[x], y=df[var[0]], name = var[1]),\n",
    "                row=i + 1,\n",
    "                col=1\n",
    "            )\n",
    "\n",
    "    fig.update_layout(height=800, width=1800, title_text=title)\n",
    "\n",
    "    fig.show()"
   ]
  },
  {
   "cell_type": "code",
   "execution_count": null,
   "metadata": {},
   "outputs": [],
   "source": [
    "show_multiple_columns([walking_1, running_1, running_2], 'Time since start in ms ', [[ 'GRAVITY X (m/s²)','walking'], ['GRAVITY X (m/s²)', 'running 1'], ['GRAVITY X (m/s²)', 'running 2']], 'Gravity')"
   ]
  },
  {
   "cell_type": "code",
   "execution_count": null,
   "metadata": {},
   "outputs": [],
   "source": [
    "show_multiple_columns(walking_1, 'datetime', [[ 'ACCELEROMETER X (m/s²)','x'], ['ACCELEROMETER Y (m/s²)', 'y'], ['ACCELEROMETER Z (m/s²)', 'z']], 'Accelerometer')"
   ]
  },
  {
   "cell_type": "code",
   "execution_count": null,
   "metadata": {},
   "outputs": [],
   "source": [
    "show_multiple_columns(walking_1, 'datetime', [[ 'GRAVITY X (m/s²)','x'], ['GRAVITY Y (m/s²)', 'y'], ['GRAVITY Z (m/s²)', 'z']], 'Gravity')"
   ]
  },
  {
   "cell_type": "code",
   "execution_count": null,
   "metadata": {},
   "outputs": [],
   "source": [
    "show_multiple_columns(walking_1, 'datetime', [[ 'LINEAR ACCELERATION X (m/s²)','x'], ['LINEAR ACCELERATION Y (m/s²)', 'y'], ['LINEAR ACCELERATION Z (m/s²)', 'z']], 'Linear Acceleration')"
   ]
  },
  {
   "cell_type": "code",
   "execution_count": null,
   "metadata": {},
   "outputs": [],
   "source": [
    "show_multiple_columns(walking_1, 'datetime', [[ 'GYROSCOPE X (rad/s)','x'], ['GYROSCOPE Y (rad/s)', 'y'], ['GYROSCOPE Z (rad/s)', 'z']], 'Gyroscope')"
   ]
  },
  {
   "cell_type": "code",
   "execution_count": null,
   "metadata": {},
   "outputs": [],
   "source": [
    "show_multiple_columns(walking_1, 'datetime', [[ 'MAGNETIC FIELD X (μT)','x'], ['MAGNETIC FIELD Y (μT)', 'y'], ['MAGNETIC FIELD Z (μT)', 'z']], 'Magnetic Field')"
   ]
  },
  {
   "cell_type": "code",
   "execution_count": null,
   "metadata": {},
   "outputs": [],
   "source": [
    "show_multiple_columns(walking_1, 'datetime', [[ 'ORIENTATION Z (azimuth °)','z (azimuth)'], ['ORIENTATION X (pitch °)', 'x (pitch)'], ['ORIENTATION Y (roll °)', 'y (roll)']], 'Orientation')"
   ]
  },
  {
   "cell_type": "code",
   "execution_count": null,
   "metadata": {},
   "outputs": [],
   "source": [
    "show_multiple_columns(walking_1, 'datetime', [[ 'LIGHT (lux)','LIGHT (lux)'], ['PROXIMITY (m)', 'PROXIMITY (m)'], ['SOUND LEVEL (dB)', 'SOUND LEVEL (dB)']], 'Multiple Measurements')"
   ]
  },
  {
   "cell_type": "code",
   "execution_count": null,
   "metadata": {},
   "outputs": [],
   "source": [
    "#added NZ 20221005\n",
    "#acceleration - walking-position1\n",
    "show_multiple_columns(nz_w1,\n",
    "                      'locationHeadingTimestamp_since1970(s)',\n",
    "                      [\n",
    "                          ['accelerometerAccelerationX(G)','x'],\n",
    "                          ['accelerometerAccelerationY(G)', 'y'],\n",
    "                          ['accelerometerAccelerationZ(G)','z']\n",
    "                      ],\n",
    "                     'Acceleration - Walk')"
   ]
  },
  {
   "cell_type": "code",
   "execution_count": null,
   "metadata": {},
   "outputs": [],
   "source": [
    "#added NZ 20221005\n",
    "#acceleration - walking - position 2\n",
    "show_multiple_columns(nz_w2,\n",
    "                      'locationHeadingTimestamp_since1970(s)',\n",
    "                      [\n",
    "                          ['accelerometerAccelerationX(G)','x'],\n",
    "                          ['accelerometerAccelerationY(G)', 'y'],\n",
    "                          ['accelerometerAccelerationZ(G)','z']\n",
    "                      ],\n",
    "                     'Acceleration - walk-position 2')"
   ]
  },
  {
   "cell_type": "code",
   "execution_count": null,
   "metadata": {},
   "outputs": [],
   "source": [
    "#added NZ 20221005\n",
    "#acceleration - Run - position 1\n",
    "show_multiple_columns(nz_r1,\n",
    "                      'locationHeadingTimestamp_since1970(s)',\n",
    "                      [\n",
    "                          ['accelerometerAccelerationX(G)','x'],\n",
    "                          ['accelerometerAccelerationY(G)', 'y'],\n",
    "                          ['accelerometerAccelerationZ(G)','z']\n",
    "                      ],\n",
    "                     'Acceleration - Run- position 1')"
   ]
  },
  {
   "cell_type": "code",
   "execution_count": null,
   "metadata": {},
   "outputs": [],
   "source": [
    "#added NZ 20221005\n",
    "##gyroRotationX(rad/s) - walk - position 1\n",
    "show_multiple_columns(nz_w1,\n",
    "                      'locationHeadingTimestamp_since1970(s)',\n",
    "                      [\n",
    "                          ['gyroRotationX(rad/s)','x'],\n",
    "                          ['gyroRotationY(rad/s)', 'y'],\n",
    "                          ['gyroRotationZ(rad/s)','z']\n",
    "                      ],\n",
    "                     'Gyro Data - Walk - 1')"
   ]
  },
  {
   "cell_type": "code",
   "execution_count": null,
   "metadata": {},
   "outputs": [],
   "source": [
    "#added NZ 20221005\n",
    "##gyroRotationX(rad/s) - walk - position 2\n",
    "show_multiple_columns(nz_w2,\n",
    "                      'locationHeadingTimestamp_since1970(s)',\n",
    "                      [\n",
    "                          ['gyroRotationX(rad/s)','x'],\n",
    "                          ['gyroRotationY(rad/s)', 'y'],\n",
    "                          ['gyroRotationZ(rad/s)','z']\n",
    "                      ],\n",
    "                     'Gyro Data - Walk - position 2')"
   ]
  },
  {
   "cell_type": "code",
   "execution_count": null,
   "metadata": {},
   "outputs": [],
   "source": [
    "#added NZ 20221005\n",
    "##gyroRotationX(rad/s) - run - position 1\n",
    "show_multiple_columns(nz_r1,\n",
    "                      'locationHeadingTimestamp_since1970(s)',\n",
    "                      [\n",
    "                          ['gyroRotationX(rad/s)','x'],\n",
    "                          ['gyroRotationY(rad/s)', 'y'],\n",
    "                          ['gyroRotationZ(rad/s)','z']\n",
    "                      ],\n",
    "                     'Gyro Data - Run - position 1')"
   ]
  },
  {
   "cell_type": "code",
   "execution_count": null,
   "metadata": {},
   "outputs": [],
   "source": [
    "#added NZ 20221005\n",
    "#magnetometerX(µT)- walk - position 1\n",
    "show_multiple_columns(nz_w1,\n",
    "                      'locationHeadingTimestamp_since1970(s)',\n",
    "                      [\n",
    "                          ['magnetometerX(µT)','x'],\n",
    "                          ['magnetometerX(µT)', 'y'],\n",
    "                          ['magnetometerX(µT)','z']\n",
    "                      ],\n",
    "                     'Magnetometer - Walk - position 1')"
   ]
  },
  {
   "cell_type": "code",
   "execution_count": null,
   "metadata": {},
   "outputs": [],
   "source": [
    "#added NZ 20221005\n",
    "#magnetometerX(µT)- walk - position 2\n",
    "show_multiple_columns(nz_w2,\n",
    "                      'locationHeadingTimestamp_since1970(s)',\n",
    "                      [\n",
    "                          ['magnetometerX(µT)','x'],\n",
    "                          ['magnetometerX(µT)', 'y'],\n",
    "                          ['magnetometerX(µT)','z']\n",
    "                      ],\n",
    "                     'Magnetometer - Walk - position 2')"
   ]
  },
  {
   "cell_type": "code",
   "execution_count": null,
   "metadata": {},
   "outputs": [],
   "source": [
    "#added NZ 20221005\n",
    "#magnetometerX(µT)- run - position 1\n",
    "show_multiple_columns(nz_r1,\n",
    "                      'locationHeadingTimestamp_since1970(s)',\n",
    "                      [\n",
    "                          ['magnetometerX(µT)','x'],\n",
    "                          ['magnetometerX(µT)', 'y'],\n",
    "                          ['magnetometerX(µT)','z']\n",
    "                      ],\n",
    "                     'Magnetometer - run - position 1')"
   ]
  },
  {
   "cell_type": "code",
   "execution_count": null,
   "metadata": {},
   "outputs": [],
   "source": [
    "#added NZ 20221005\n",
    "#motionGravityX(G)- walk - position 1\n",
    "show_multiple_columns(nz_w1,\n",
    "                      'locationHeadingTimestamp_since1970(s)',\n",
    "                      [\n",
    "                          ['motionGravityX(G)','x'],\n",
    "                          ['motionGravityX(G)', 'y'],\n",
    "                          ['motionGravityX(G)','z']\n",
    "                      ],\n",
    "                     'Magnetometer - Walk - position 1')"
   ]
  },
  {
   "cell_type": "code",
   "execution_count": null,
   "metadata": {},
   "outputs": [],
   "source": [
    "#added NZ 20221005\n",
    "#motionGravityX(G)- walk - position 2\n",
    "show_multiple_columns(nz_w2,\n",
    "                      'locationHeadingTimestamp_since1970(s)',\n",
    "                      [\n",
    "                          ['motionGravityX(G)','x'],\n",
    "                          ['motionGravityX(G)', 'y'],\n",
    "                          ['motionGravityX(G)','z']\n",
    "                      ],\n",
    "                     'Magnetometer - Walk - position 2')"
   ]
  },
  {
   "cell_type": "code",
   "execution_count": null,
   "metadata": {},
   "outputs": [],
   "source": [
    "#added NZ 20221005\n",
    "#motionGravityX(G)- Run - position 1\n",
    "show_multiple_columns(nz_r1,\n",
    "                      'locationHeadingTimestamp_since1970(s)',\n",
    "                      [\n",
    "                          ['motionGravityX(G)','x'],\n",
    "                          ['motionGravityX(G)', 'y'],\n",
    "                          ['motionGravityX(G)','z']\n",
    "                      ],\n",
    "                     'Magnetometer - Run - position 1')"
   ]
  },
  {
   "cell_type": "code",
   "execution_count": null,
   "metadata": {},
   "outputs": [],
   "source": [
    "#added NZ 20221005\n",
    "#unbiased user data -motionUserAccelerationX(G)- walk - position 1\n",
    "show_multiple_columns(nz_w1,\n",
    "                      'locationHeadingTimestamp_since1970(s)',\n",
    "                      [\n",
    "                          ['motionUserAccelerationX(G)','x'],\n",
    "                          ['motionUserAccelerationX(G)', 'y'],\n",
    "                          ['motionUserAccelerationX(G)','z']\n",
    "                      ],\n",
    "                     'Unbiased data user acceleration - Walk - position 1')"
   ]
  },
  {
   "cell_type": "code",
   "execution_count": null,
   "metadata": {},
   "outputs": [],
   "source": [
    "#added NZ 20221005\n",
    "#unbiased user data -motionUserAccelerationX(G)- walk - position 2\n",
    "show_multiple_columns(nz_w2,\n",
    "                      'locationHeadingTimestamp_since1970(s)',\n",
    "                      [\n",
    "                          ['motionUserAccelerationX(G)','x'],\n",
    "                          ['motionUserAccelerationX(G)', 'y'],\n",
    "                          ['motionUserAccelerationX(G)','z']\n",
    "                      ],\n",
    "                     'Unbiased data user acceleration - Walk - position 2')"
   ]
  },
  {
   "cell_type": "code",
   "execution_count": null,
   "metadata": {},
   "outputs": [],
   "source": [
    "#added NZ 20221005\n",
    "#unbiased user data -motionUserAccelerationX(G)- Run - position 1\n",
    "show_multiple_columns(nz_r1,\n",
    "                      'locationHeadingTimestamp_since1970(s)',\n",
    "                      [\n",
    "                          ['motionUserAccelerationX(G)','x'],\n",
    "                          ['motionUserAccelerationX(G)', 'y'],\n",
    "                          ['motionUserAccelerationX(G)','z']\n",
    "                      ],\n",
    "                     'Unbiased data user acceleration - Run - position 1')"
   ]
  },
  {
   "cell_type": "code",
   "execution_count": null,
   "metadata": {},
   "outputs": [],
   "source": []
  }
 ],
 "metadata": {
  "kernelspec": {
   "display_name": "Python 3 (ipykernel)",
   "language": "python",
   "name": "python3"
  },
  "language_info": {
   "codemirror_mode": {
    "name": "ipython",
    "version": 3
   },
   "file_extension": ".py",
   "mimetype": "text/x-python",
   "name": "python",
   "nbconvert_exporter": "python",
   "pygments_lexer": "ipython3",
   "version": "3.10.7"
  },
  "vscode": {
   "interpreter": {
    "hash": "b1300d74c582e433fb42e1997eddbde559ffc953ada519ef8cefa887b1cf9492"
   }
  }
 },
 "nbformat": 4,
 "nbformat_minor": 2
}