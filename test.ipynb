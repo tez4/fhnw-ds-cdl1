{
 "cells": [
  {
   "cell_type": "code",
   "execution_count": 1,
   "metadata": {},
   "outputs": [],
   "source": [
    "import csv\n",
    "import numpy as np\n",
    "import pandas as pd\n",
    "import plotly.express as px\n",
    "from plotly.subplots import make_subplots\n",
    "import plotly.graph_objects as go"
   ]
  },
  {
   "cell_type": "code",
   "execution_count": 2,
   "metadata": {},
   "outputs": [
    {
     "data": {
      "text/html": [
       "<div>\n",
       "<style scoped>\n",
       "    .dataframe tbody tr th:only-of-type {\n",
       "        vertical-align: middle;\n",
       "    }\n",
       "\n",
       "    .dataframe tbody tr th {\n",
       "        vertical-align: top;\n",
       "    }\n",
       "\n",
       "    .dataframe thead th {\n",
       "        text-align: right;\n",
       "    }\n",
       "</style>\n",
       "<table border=\"1\" class=\"dataframe\">\n",
       "  <thead>\n",
       "    <tr style=\"text-align: right;\">\n",
       "      <th></th>\n",
       "      <th>file</th>\n",
       "      <th>activity</th>\n",
       "      <th>position</th>\n",
       "    </tr>\n",
       "  </thead>\n",
       "  <tbody>\n",
       "    <tr>\n",
       "      <th>0</th>\n",
       "      <td>walking_jg_1.csv</td>\n",
       "      <td>walking</td>\n",
       "      <td>left pocket, screen towards leg, upright</td>\n",
       "    </tr>\n",
       "    <tr>\n",
       "      <th>1</th>\n",
       "      <td>running_jg_1.csv</td>\n",
       "      <td>running</td>\n",
       "      <td>left pocket, screen towards leg, upside down</td>\n",
       "    </tr>\n",
       "    <tr>\n",
       "      <th>2</th>\n",
       "      <td>running_jg_2.csv</td>\n",
       "      <td>running</td>\n",
       "      <td>left pocket, screen towards leg, upright</td>\n",
       "    </tr>\n",
       "    <tr>\n",
       "      <th>3</th>\n",
       "      <td>Run_nz_pos1.csv</td>\n",
       "      <td>running</td>\n",
       "      <td>left pocket,jacket top,screen front upright</td>\n",
       "    </tr>\n",
       "    <tr>\n",
       "      <th>4</th>\n",
       "      <td>Walk_nz_pos1.csv</td>\n",
       "      <td>walking</td>\n",
       "      <td>left pocket,jacket top,screen front upright</td>\n",
       "    </tr>\n",
       "    <tr>\n",
       "      <th>5</th>\n",
       "      <td>Walk_nz_pos2.csv</td>\n",
       "      <td>walking</td>\n",
       "      <td>left pocket,jacket top,screen back upright</td>\n",
       "    </tr>\n",
       "  </tbody>\n",
       "</table>\n",
       "</div>"
      ],
      "text/plain": [
       "               file activity                                      position\n",
       "0  walking_jg_1.csv  walking      left pocket, screen towards leg, upright\n",
       "1  running_jg_1.csv  running  left pocket, screen towards leg, upside down\n",
       "2  running_jg_2.csv  running      left pocket, screen towards leg, upright\n",
       "3   Run_nz_pos1.csv  running   left pocket,jacket top,screen front upright\n",
       "4  Walk_nz_pos1.csv  walking   left pocket,jacket top,screen front upright\n",
       "5  Walk_nz_pos2.csv  walking    left pocket,jacket top,screen back upright"
      ]
     },
     "execution_count": 2,
     "metadata": {},
     "output_type": "execute_result"
    }
   ],
   "source": [
    "\n",
    "meta = pd.DataFrame(\n",
    "    data={\n",
    "        'file': ['walking_jg_1.csv', 'walking_jg_2.csv', 'walking_jg_3.csv', 'running_jg_1.csv', 'running_jg_2.csv'],\n",
    "        'user': ['jg', 'jg', 'jg', 'jg', 'jg'],\n",
    "        'activity': ['walking', 'walking', 'walking', 'running', 'running'],\n",
    "        'pocket': ['left pocket', 'left pocket', 'left pocket', 'left pocket', 'left pocket'],\n",
    "        'position_x': ['screen towards leg', 'screen towards leg', 'screen towards leg', 'screen towards leg', 'screen towards leg'],\n",
    "        'position_y': ['upright', 'upside down', 'upside down', 'upside down', 'upright']\n",
    "    }\n",
    ")\n",
    "\n",
    "\n",
    "meta = pd.DataFrame(\n",
    "    data={\n",
    "        'file': ['walking_jg_1.csv', 'running_jg_1.csv', 'running_jg_2.csv',\n",
    "                 'Run_nz_pos1.csv', 'Walk_nz_pos1.csv','Walk_nz_pos2.csv'], # added NZ 20221005\n",
    "        'activity': ['walking', 'running', 'running',\n",
    "                    'running', 'walking','walking'], #added NZ 20221005\n",
    "        'position': ['left pocket, screen towards leg, upright', 'left pocket, screen towards leg, upside down', 'left pocket, screen towards leg, upright',\n",
    "                    'left pocket,jacket top,screen front upright','left pocket,jacket top,screen front upright','left pocket,jacket top,screen back upright'] #added NZ 20221005\n",
    "    }\n",
    ")\n",
    "\n",
    "meta"
   ]
  },
  {
   "cell_type": "code",
   "execution_count": null,
   "metadata": {},
   "outputs": [],
   "source": [
    "pd.read_csv('data/physics_toolbox_suite_g-force_meter.csv')"
   ]
  },
  {
   "cell_type": "code",
   "execution_count": null,
   "metadata": {},
   "outputs": [],
   "source": [
    "pd.read_csv('data/physics_toolbox_suite_multi_record.csv') # 121 per second"
   ]
  },
  {
   "cell_type": "code",
   "execution_count": null,
   "metadata": {},
   "outputs": [],
   "source": [
    "pd.read_csv('data/physics_toolbox_suite_3_sensors.csv') # 80 per second"
   ]
  },
  {
   "cell_type": "code",
   "execution_count": null,
   "metadata": {},
   "outputs": [],
   "source": [
    "nz = pd.read_csv('data/2022-09-27_12_59_37_nz_iOS_device.csv')\n",
    "nz"
   ]
  },
  {
   "cell_type": "code",
   "execution_count": 3,
   "metadata": {},
   "outputs": [],
   "source": [
    "# added NZ-20221005\n",
    "# data logged with SensorLog 100hz\n",
    "nz_w1 = pd.read_csv('data/Walk_nz_pos1.csv')\n",
    "nz_w2 = pd.read_csv('data/Walk_nz_pos2.csv')\n",
    "nz_r1 = pd.read_csv('data/Run_nz_pos1.csv')"
   ]
  },
  {
   "cell_type": "code",
   "execution_count": null,
   "metadata": {},
   "outputs": [],
   "source": [
    "jg = pd.read_csv('data/AndroSensor_100hz.csv', sep=';', header=1)\n",
    "jg"
   ]
  },
  {
   "cell_type": "markdown",
   "metadata": {},
   "source": [
    "`data/AndroSensor_100hz.csv` has a setting to record exactly 100hz. In a test of just over a minute it did exactly so."
   ]
  },
  {
   "cell_type": "code",
   "execution_count": 4,
   "metadata": {},
   "outputs": [
    {
     "data": {
      "text/plain": [
       "Index(['loggingTime(txt)', 'loggingSample(N)',\n",
       "       'locationTimestamp_since1970(s)', 'locationLatitude(WGS84)',\n",
       "       'locationLongitude(WGS84)', 'locationAltitude(m)', 'locationSpeed(m/s)',\n",
       "       'locationSpeedAccuracy(m/s)', 'locationCourse(°)',\n",
       "       'locationCourseAccuracy(°)', 'locationVerticalAccuracy(m)',\n",
       "       'locationHorizontalAccuracy(m)', 'locationFloor(Z)',\n",
       "       'locationHeadingTimestamp_since1970(s)', 'locationHeadingX(µT)',\n",
       "       'locationHeadingY(µT)', 'locationHeadingZ(µT)',\n",
       "       'locationTrueHeading(°)', 'locationMagneticHeading(°)',\n",
       "       'locationHeadingAccuracy(°)', 'accelerometerTimestamp_sinceReboot(s)',\n",
       "       'accelerometerAccelerationX(G)', 'accelerometerAccelerationY(G)',\n",
       "       'accelerometerAccelerationZ(G)', 'gyroTimestamp_sinceReboot(s)',\n",
       "       'gyroRotationX(rad/s)', 'gyroRotationY(rad/s)', 'gyroRotationZ(rad/s)',\n",
       "       'magnetometerTimestamp_sinceReboot(s)', 'magnetometerX(µT)',\n",
       "       'magnetometerY(µT)', 'magnetometerZ(µT)',\n",
       "       'motionTimestamp_sinceReboot(s)', 'motionYaw(rad)', 'motionRoll(rad)',\n",
       "       'motionPitch(rad)', 'motionRotationRateX(rad/s)',\n",
       "       'motionRotationRateY(rad/s)', 'motionRotationRateZ(rad/s)',\n",
       "       'motionUserAccelerationX(G)', 'motionUserAccelerationY(G)',\n",
       "       'motionUserAccelerationZ(G)', 'motionAttitudeReferenceFrame(txt)',\n",
       "       'motionQuaternionX(R)', 'motionQuaternionY(R)', 'motionQuaternionZ(R)',\n",
       "       'motionQuaternionW(R)', 'motionGravityX(G)', 'motionGravityY(G)',\n",
       "       'motionGravityZ(G)', 'motionMagneticFieldX(µT)',\n",
       "       'motionMagneticFieldY(µT)', 'motionMagneticFieldZ(µT)',\n",
       "       'motionHeading(°)', 'motionMagneticFieldCalibrationAccuracy(Z)',\n",
       "       'activityTimestamp_sinceReboot(s)', 'activity(txt)',\n",
       "       'activityActivityConfidence(Z)', 'activityActivityStartDate(txt)',\n",
       "       'pedometerStartDate(txt)', 'pedometerNumberofSteps(N)',\n",
       "       'pedometerAverageActivePace(s/m)', 'pedometerCurrentPace(s/m)',\n",
       "       'pedometerCurrentCadence(steps/s)', 'pedometerDistance(m)',\n",
       "       'pedometerFloorAscended(N)', 'pedometerFloorDescended(N)',\n",
       "       'pedometerEndDate(txt)', 'altimeterTimestamp_sinceReboot(s)',\n",
       "       'altimeterReset(bool)', 'altimeterRelativeAltitude(m)',\n",
       "       'altimeterPressure(kPa)', 'deviceOrientationTimeStamp_since1970(s)',\n",
       "       'deviceOrientation(Z)', 'label(N)'],\n",
       "      dtype='object')"
      ]
     },
     "execution_count": 4,
     "metadata": {},
     "output_type": "execute_result"
    }
   ],
   "source": [
    "# added NZ-20221005\n",
    "#nz.columns\n",
    "nz_w1.columns"
   ]
  },
  {
   "cell_type": "code",
   "execution_count": 12,
   "metadata": {},
   "outputs": [],
   "source": [
    "#NZ - pipeline to remove unnecessary columns from SensorLog File and keep only few\n",
    "keep_cols = ['loggingTime(txt)', 'locationLatitude(WGS84)','locationLongitude(WGS84)', \n",
    "             'locationAltitude(m)', 'locationSpeed(m/s)', 'locationSpeedAccuracy(m/s)', 'locationCourse(°)',\n",
    "             'accelerometerAccelerationX(G)', 'accelerometerAccelerationY(G)',\n",
    "             'accelerometerAccelerationZ(G)', 'gyroRotationX(rad/s)', 'gyroRotationY(rad/s)', 'gyroRotationZ(rad/s)',\n",
    "             'magnetometerX(µT)', 'magnetometerY(µT)', 'magnetometerZ(µT)',\n",
    "             'motionYaw(rad)', 'motionRoll(rad)','motionPitch(rad)', 'motionRotationRateX(rad/s)',\n",
    "             'motionRotationRateY(rad/s)', 'motionRotationRateZ(rad/s)',\n",
    "             'motionUserAccelerationX(G)', 'motionUserAccelerationY(G)',\n",
    "             'motionUserAccelerationZ(G)', 'motionGravityX(G)', 'motionGravityY(G)',\n",
    "             'motionGravityZ(G)', 'motionMagneticFieldX(µT)',\n",
    "             'motionMagneticFieldY(µT)', 'motionMagneticFieldZ(µT)']\n",
    "\n",
    "remove_cols = [ 'loggingSample(N)','locationTimestamp_since1970(s)', 'locationCourseAccuracy(°)', 'locationVerticalAccuracy(m)',\n",
    "       'locationHorizontalAccuracy(m)', 'locationFloor(Z)','locationHeadingTimestamp_since1970(s)', 'locationHeadingX(µT)',\n",
    "       'locationHeadingY(µT)', 'locationHeadingZ(µT)','locationTrueHeading(°)', 'locationMagneticHeading(°)',\n",
    "       'locationHeadingAccuracy(°)', 'accelerometerTimestamp_sinceReboot(s)',\n",
    "        'gyroTimestamp_sinceReboot(s)','magnetometerTimestamp_sinceReboot(s)',\n",
    "       'motionTimestamp_sinceReboot(s)', 'motionAttitudeReferenceFrame(txt)',\n",
    "       'motionQuaternionX(R)', 'motionQuaternionY(R)', 'motionQuaternionZ(R)',\n",
    "       'motionQuaternionW(R)', 'motionHeading(°)', 'motionMagneticFieldCalibrationAccuracy(Z)',\n",
    "       'activityTimestamp_sinceReboot(s)', 'activity(txt)', 'activityActivityConfidence(Z)', 'activityActivityStartDate(txt)',\n",
    "       'pedometerStartDate(txt)', 'pedometerNumberofSteps(N)', 'pedometerAverageActivePace(s/m)', 'pedometerCurrentPace(s/m)',\n",
    "       'pedometerCurrentCadence(steps/s)', 'pedometerDistance(m)','pedometerFloorAscended(N)', 'pedometerFloorDescended(N)',\n",
    "       'pedometerEndDate(txt)', 'altimeterTimestamp_sinceReboot(s)','altimeterReset(bool)', 'altimeterRelativeAltitude(m)',\n",
    "       'altimeterPressure(kPa)', 'deviceOrientationTimeStamp_since1970(s)','deviceOrientation(Z)', 'label(N)']"
   ]
  },
  {
   "cell_type": "code",
   "execution_count": 10,
   "metadata": {},
   "outputs": [],
   "source": [
    "# funtion for removing unnecessary columns, saving it as csv in the folder\n",
    "def remove_cols(df, remove_cols, output):\n",
    "    '''\n",
    "    df: dataframe from where you want to remove the columns\n",
    "    remove_cols: List of columns to be dropped\n",
    "    output: filename to same the resulting df\n",
    "    '''\n",
    "    \n",
    "    df.drop(remove_cols, axis = 1).to_csv(output, index = False)\n",
    "    "
   ]
  },
  {
   "cell_type": "code",
   "execution_count": 14,
   "metadata": {},
   "outputs": [],
   "source": [
    "nz_w2.drop(remove_cols, axis = 1).to_csv('df_nz_w2.csv', index = False)"
   ]
  },
  {
   "cell_type": "code",
   "execution_count": 15,
   "metadata": {},
   "outputs": [],
   "source": [
    "nz_r1.drop(remove_cols, axis = 1).to_csv('df_nz_r1.csv', index = False)"
   ]
  },
  {
   "cell_type": "code",
   "execution_count": 8,
   "metadata": {},
   "outputs": [
    {
     "data": {
      "text/html": [
       "<div>\n",
       "<style scoped>\n",
       "    .dataframe tbody tr th:only-of-type {\n",
       "        vertical-align: middle;\n",
       "    }\n",
       "\n",
       "    .dataframe tbody tr th {\n",
       "        vertical-align: top;\n",
       "    }\n",
       "\n",
       "    .dataframe thead th {\n",
       "        text-align: right;\n",
       "    }\n",
       "</style>\n",
       "<table border=\"1\" class=\"dataframe\">\n",
       "  <thead>\n",
       "    <tr style=\"text-align: right;\">\n",
       "      <th></th>\n",
       "      <th>loggingTime(txt)</th>\n",
       "      <th>locationLatitude(WGS84)</th>\n",
       "      <th>locationLongitude(WGS84)</th>\n",
       "      <th>locationAltitude(m)</th>\n",
       "      <th>locationSpeed(m/s)</th>\n",
       "      <th>locationSpeedAccuracy(m/s)</th>\n",
       "      <th>locationCourse(°)</th>\n",
       "      <th>accelerometerAccelerationX(G)</th>\n",
       "      <th>accelerometerAccelerationY(G)</th>\n",
       "      <th>accelerometerAccelerationZ(G)</th>\n",
       "      <th>...</th>\n",
       "      <th>motionRotationRateZ(rad/s)</th>\n",
       "      <th>motionUserAccelerationX(G)</th>\n",
       "      <th>motionUserAccelerationY(G)</th>\n",
       "      <th>motionUserAccelerationZ(G)</th>\n",
       "      <th>motionGravityX(G)</th>\n",
       "      <th>motionGravityY(G)</th>\n",
       "      <th>motionGravityZ(G)</th>\n",
       "      <th>motionMagneticFieldX(µT)</th>\n",
       "      <th>motionMagneticFieldY(µT)</th>\n",
       "      <th>motionMagneticFieldZ(µT)</th>\n",
       "    </tr>\n",
       "  </thead>\n",
       "  <tbody>\n",
       "    <tr>\n",
       "      <th>0</th>\n",
       "      <td>2022-09-29T14:05:30.813+02:00</td>\n",
       "      <td>46.485756</td>\n",
       "      <td>9.905119</td>\n",
       "      <td>1825.221</td>\n",
       "      <td>0.24</td>\n",
       "      <td>1.02</td>\n",
       "      <td>338.90625</td>\n",
       "      <td>-0.152496</td>\n",
       "      <td>-0.691345</td>\n",
       "      <td>-0.726028</td>\n",
       "      <td>...</td>\n",
       "      <td>-0.142380</td>\n",
       "      <td>-0.056869</td>\n",
       "      <td>-0.066605</td>\n",
       "      <td>0.108015</td>\n",
       "      <td>-0.073334</td>\n",
       "      <td>-0.623306</td>\n",
       "      <td>-0.778532</td>\n",
       "      <td>2.040302</td>\n",
       "      <td>-45.646866</td>\n",
       "      <td>-20.065117</td>\n",
       "    </tr>\n",
       "    <tr>\n",
       "      <th>1</th>\n",
       "      <td>2022-09-29T14:05:30.824+02:00</td>\n",
       "      <td>46.485756</td>\n",
       "      <td>9.905119</td>\n",
       "      <td>1825.221</td>\n",
       "      <td>0.24</td>\n",
       "      <td>1.02</td>\n",
       "      <td>338.90625</td>\n",
       "      <td>-0.163879</td>\n",
       "      <td>-0.687790</td>\n",
       "      <td>-0.743469</td>\n",
       "      <td>...</td>\n",
       "      <td>-0.158160</td>\n",
       "      <td>-0.069838</td>\n",
       "      <td>-0.066376</td>\n",
       "      <td>0.069429</td>\n",
       "      <td>-0.073640</td>\n",
       "      <td>-0.622024</td>\n",
       "      <td>-0.779528</td>\n",
       "      <td>2.025677</td>\n",
       "      <td>-45.607357</td>\n",
       "      <td>-20.131004</td>\n",
       "    </tr>\n",
       "    <tr>\n",
       "      <th>2</th>\n",
       "      <td>2022-09-29T14:05:30.824+02:00</td>\n",
       "      <td>46.485756</td>\n",
       "      <td>9.905119</td>\n",
       "      <td>1825.221</td>\n",
       "      <td>0.24</td>\n",
       "      <td>1.02</td>\n",
       "      <td>338.90625</td>\n",
       "      <td>-0.160980</td>\n",
       "      <td>-0.692444</td>\n",
       "      <td>-0.740707</td>\n",
       "      <td>...</td>\n",
       "      <td>-0.170830</td>\n",
       "      <td>-0.088598</td>\n",
       "      <td>-0.069055</td>\n",
       "      <td>0.039650</td>\n",
       "      <td>-0.073496</td>\n",
       "      <td>-0.621192</td>\n",
       "      <td>-0.780204</td>\n",
       "      <td>2.067295</td>\n",
       "      <td>-45.503960</td>\n",
       "      <td>-20.235970</td>\n",
       "    </tr>\n",
       "    <tr>\n",
       "      <th>3</th>\n",
       "      <td>2022-09-29T14:05:30.825+02:00</td>\n",
       "      <td>46.485756</td>\n",
       "      <td>9.905119</td>\n",
       "      <td>1825.221</td>\n",
       "      <td>0.24</td>\n",
       "      <td>1.02</td>\n",
       "      <td>338.90625</td>\n",
       "      <td>-0.154144</td>\n",
       "      <td>-0.697830</td>\n",
       "      <td>-0.732468</td>\n",
       "      <td>...</td>\n",
       "      <td>-0.185736</td>\n",
       "      <td>-0.089089</td>\n",
       "      <td>-0.067512</td>\n",
       "      <td>0.037894</td>\n",
       "      <td>-0.072731</td>\n",
       "      <td>-0.620843</td>\n",
       "      <td>-0.780554</td>\n",
       "      <td>2.107487</td>\n",
       "      <td>-45.428860</td>\n",
       "      <td>-20.375824</td>\n",
       "    </tr>\n",
       "    <tr>\n",
       "      <th>4</th>\n",
       "      <td>2022-09-29T14:05:30.829+02:00</td>\n",
       "      <td>46.485756</td>\n",
       "      <td>9.905119</td>\n",
       "      <td>1825.221</td>\n",
       "      <td>0.24</td>\n",
       "      <td>1.02</td>\n",
       "      <td>338.90625</td>\n",
       "      <td>-0.149139</td>\n",
       "      <td>-0.689270</td>\n",
       "      <td>-0.713745</td>\n",
       "      <td>...</td>\n",
       "      <td>-0.195080</td>\n",
       "      <td>-0.084845</td>\n",
       "      <td>-0.076613</td>\n",
       "      <td>0.043834</td>\n",
       "      <td>-0.071282</td>\n",
       "      <td>-0.620851</td>\n",
       "      <td>-0.780681</td>\n",
       "      <td>2.278267</td>\n",
       "      <td>-45.537605</td>\n",
       "      <td>-20.327240</td>\n",
       "    </tr>\n",
       "  </tbody>\n",
       "</table>\n",
       "<p>5 rows × 31 columns</p>\n",
       "</div>"
      ],
      "text/plain": [
       "                loggingTime(txt)  locationLatitude(WGS84)  \\\n",
       "0  2022-09-29T14:05:30.813+02:00                46.485756   \n",
       "1  2022-09-29T14:05:30.824+02:00                46.485756   \n",
       "2  2022-09-29T14:05:30.824+02:00                46.485756   \n",
       "3  2022-09-29T14:05:30.825+02:00                46.485756   \n",
       "4  2022-09-29T14:05:30.829+02:00                46.485756   \n",
       "\n",
       "   locationLongitude(WGS84)  locationAltitude(m)  locationSpeed(m/s)  \\\n",
       "0                  9.905119             1825.221                0.24   \n",
       "1                  9.905119             1825.221                0.24   \n",
       "2                  9.905119             1825.221                0.24   \n",
       "3                  9.905119             1825.221                0.24   \n",
       "4                  9.905119             1825.221                0.24   \n",
       "\n",
       "   locationSpeedAccuracy(m/s)  locationCourse(°)  \\\n",
       "0                        1.02          338.90625   \n",
       "1                        1.02          338.90625   \n",
       "2                        1.02          338.90625   \n",
       "3                        1.02          338.90625   \n",
       "4                        1.02          338.90625   \n",
       "\n",
       "   accelerometerAccelerationX(G)  accelerometerAccelerationY(G)  \\\n",
       "0                      -0.152496                      -0.691345   \n",
       "1                      -0.163879                      -0.687790   \n",
       "2                      -0.160980                      -0.692444   \n",
       "3                      -0.154144                      -0.697830   \n",
       "4                      -0.149139                      -0.689270   \n",
       "\n",
       "   accelerometerAccelerationZ(G)  ...  motionRotationRateZ(rad/s)  \\\n",
       "0                      -0.726028  ...                   -0.142380   \n",
       "1                      -0.743469  ...                   -0.158160   \n",
       "2                      -0.740707  ...                   -0.170830   \n",
       "3                      -0.732468  ...                   -0.185736   \n",
       "4                      -0.713745  ...                   -0.195080   \n",
       "\n",
       "   motionUserAccelerationX(G)  motionUserAccelerationY(G)  \\\n",
       "0                   -0.056869                   -0.066605   \n",
       "1                   -0.069838                   -0.066376   \n",
       "2                   -0.088598                   -0.069055   \n",
       "3                   -0.089089                   -0.067512   \n",
       "4                   -0.084845                   -0.076613   \n",
       "\n",
       "   motionUserAccelerationZ(G)  motionGravityX(G)  motionGravityY(G)  \\\n",
       "0                    0.108015          -0.073334          -0.623306   \n",
       "1                    0.069429          -0.073640          -0.622024   \n",
       "2                    0.039650          -0.073496          -0.621192   \n",
       "3                    0.037894          -0.072731          -0.620843   \n",
       "4                    0.043834          -0.071282          -0.620851   \n",
       "\n",
       "   motionGravityZ(G)  motionMagneticFieldX(µT)  motionMagneticFieldY(µT)  \\\n",
       "0          -0.778532                  2.040302                -45.646866   \n",
       "1          -0.779528                  2.025677                -45.607357   \n",
       "2          -0.780204                  2.067295                -45.503960   \n",
       "3          -0.780554                  2.107487                -45.428860   \n",
       "4          -0.780681                  2.278267                -45.537605   \n",
       "\n",
       "   motionMagneticFieldZ(µT)  \n",
       "0                -20.065117  \n",
       "1                -20.131004  \n",
       "2                -20.235970  \n",
       "3                -20.375824  \n",
       "4                -20.327240  \n",
       "\n",
       "[5 rows x 31 columns]"
      ]
     },
     "execution_count": 8,
     "metadata": {},
     "output_type": "execute_result"
    }
   ],
   "source": [
    "nz_w1.drop(remove_cols, axis = 1).to_csv('df_nz_w1.csv', index = False)\n"
   ]
  },
  {
   "cell_type": "code",
   "execution_count": null,
   "metadata": {},
   "outputs": [],
   "source": []
  },
  {
   "cell_type": "code",
   "execution_count": null,
   "metadata": {},
   "outputs": [],
   "source": [
    "# added NZ-20221005\n",
    "# 75 columns\n",
    "nz_w1.head()"
   ]
  },
  {
   "cell_type": "code",
   "execution_count": null,
   "metadata": {},
   "outputs": [],
   "source": [
    "# added NZ-20221005\n",
    "# loggingTime(txt) to datetime format (is different data format)\n",
    "# with Timezone\n",
    "\n",
    "nz_w1['loggingTime(txt)'] = pd.to_datetime(nz_w1['loggingTime(txt)'], format = '%Y-%m-%dT%H:%M:%S.%f')\n",
    "nz_w2['loggingTime(txt)'] = pd.to_datetime(nz_w2['loggingTime(txt)'], format = '%Y-%m-%dT%H:%M:%S.%f')\n",
    "nz_r1['loggingTime(txt)'] = pd.to_datetime(nz_r1['loggingTime(txt)'], format = '%Y-%m-%dT%H:%M:%S.%f')"
   ]
  },
  {
   "cell_type": "code",
   "execution_count": null,
   "metadata": {},
   "outputs": [],
   "source": [
    "# added NZ 20221005\n",
    "nz_w1.dtypes\n",
    "nz_w1.head()"
   ]
  },
  {
   "cell_type": "code",
   "execution_count": null,
   "metadata": {},
   "outputs": [],
   "source": [
    "jg.columns\n",
    "jg.head()"
   ]
  },
  {
   "cell_type": "code",
   "execution_count": null,
   "metadata": {},
   "outputs": [],
   "source": [
    "walking_1 = pd.read_csv('data/walking_test_jg.csv', sep=';', header=1)\n",
    "walking_1 = pd.read_csv('data/walking_jg_1.csv', sep=';', header=1)\n",
    "walking_1['datetime'] = pd.to_datetime(walking_1['YYYY-MO-DD HH-MI-SS_SSS'], format='%Y-%m-%d %H:%M:%S:%f')\n",
    "walking_1\n",
    "\n",
    "running_1 = pd.read_csv('data/running_jg_1.csv', sep=';', header=1)\n",
    "running_1['datetime'] = pd.to_datetime(running_1['YYYY-MO-DD HH-MI-SS_SSS'], format='%Y-%m-%d %H:%M:%S:%f')\n",
    "\n",
    "running_2 = pd.read_csv('data/running_jg_2.csv', sep=';', header=1)\n",
    "running_2['datetime'] = pd.to_datetime(running_1['YYYY-MO-DD HH-MI-SS_SSS'], format='%Y-%m-%d %H:%M:%S:%f')"
   ]
  },
  {
   "cell_type": "code",
   "execution_count": null,
   "metadata": {},
   "outputs": [],
   "source": [
    "walking_1.columns"
   ]
  },
  {
   "cell_type": "code",
   "execution_count": null,
   "metadata": {},
   "outputs": [],
   "source": [
    "def show_multiple_columns(df, x, y_variables, title):\n",
    "    fig = make_subplots(\n",
    "        rows=3, cols=1, shared_xaxes=True, vertical_spacing=0.02)\n",
    "\n",
    "    if isinstance(df, list):\n",
    "        for i, (my_df, var) in enumerate(zip(df, y_variables)):\n",
    "            fig.add_trace(\n",
    "                go.Scatter(x=my_df[x], y=my_df[var[0]], name = var[1]),\n",
    "                row=i + 1,\n",
    "                col=1\n",
    "            )\n",
    "    else:\n",
    "        for i, var in enumerate(y_variables):\n",
    "            fig.add_trace(\n",
    "                go.Scatter(x=df[x], y=df[var[0]], name = var[1]),\n",
    "                row=i + 1,\n",
    "                col=1\n",
    "            )\n",
    "\n",
    "    fig.update_layout(height=800, width=1800, title_text=title)\n",
    "\n",
    "    fig.show()"
   ]
  },
  {
   "cell_type": "code",
   "execution_count": null,
   "metadata": {},
   "outputs": [],
   "source": [
    "show_multiple_columns([walking_1, running_1, running_2], 'Time since start in ms ', [[ 'GRAVITY X (m/s²)','walking'], ['GRAVITY X (m/s²)', 'running 1'], ['GRAVITY X (m/s²)', 'running 2']], 'Gravity')"
   ]
  },
  {
   "cell_type": "code",
   "execution_count": null,
   "metadata": {},
   "outputs": [],
   "source": [
    "show_multiple_columns(walking_1, 'datetime', [[ 'ACCELEROMETER X (m/s²)','x'], ['ACCELEROMETER Y (m/s²)', 'y'], ['ACCELEROMETER Z (m/s²)', 'z']], 'Accelerometer')"
   ]
  },
  {
   "cell_type": "code",
   "execution_count": null,
   "metadata": {},
   "outputs": [],
   "source": [
    "show_multiple_columns(walking_1, 'datetime', [[ 'GRAVITY X (m/s²)','x'], ['GRAVITY Y (m/s²)', 'y'], ['GRAVITY Z (m/s²)', 'z']], 'Gravity')"
   ]
  },
  {
   "cell_type": "code",
   "execution_count": null,
   "metadata": {},
   "outputs": [],
   "source": [
    "show_multiple_columns(walking_1, 'datetime', [[ 'LINEAR ACCELERATION X (m/s²)','x'], ['LINEAR ACCELERATION Y (m/s²)', 'y'], ['LINEAR ACCELERATION Z (m/s²)', 'z']], 'Linear Acceleration')"
   ]
  },
  {
   "cell_type": "code",
   "execution_count": null,
   "metadata": {},
   "outputs": [],
   "source": [
    "show_multiple_columns(walking_1, 'datetime', [[ 'GYROSCOPE X (rad/s)','x'], ['GYROSCOPE Y (rad/s)', 'y'], ['GYROSCOPE Z (rad/s)', 'z']], 'Gyroscope')"
   ]
  },
  {
   "cell_type": "code",
   "execution_count": null,
   "metadata": {},
   "outputs": [],
   "source": [
    "show_multiple_columns(walking_1, 'datetime', [[ 'MAGNETIC FIELD X (μT)','x'], ['MAGNETIC FIELD Y (μT)', 'y'], ['MAGNETIC FIELD Z (μT)', 'z']], 'Magnetic Field')"
   ]
  },
  {
   "cell_type": "code",
   "execution_count": null,
   "metadata": {},
   "outputs": [],
   "source": [
    "show_multiple_columns(walking_1, 'datetime', [[ 'ORIENTATION Z (azimuth °)','z (azimuth)'], ['ORIENTATION X (pitch °)', 'x (pitch)'], ['ORIENTATION Y (roll °)', 'y (roll)']], 'Orientation')"
   ]
  },
  {
   "cell_type": "code",
   "execution_count": null,
   "metadata": {},
   "outputs": [],
   "source": [
    "show_multiple_columns(walking_1, 'datetime', [[ 'LIGHT (lux)','LIGHT (lux)'], ['PROXIMITY (m)', 'PROXIMITY (m)'], ['SOUND LEVEL (dB)', 'SOUND LEVEL (dB)']], 'Multiple Measurements')"
   ]
  },
  {
   "cell_type": "code",
   "execution_count": null,
   "metadata": {},
   "outputs": [],
   "source": [
    "#added NZ 20221005\n",
    "#acceleration - walking-position1\n",
    "show_multiple_columns(nz_w1,\n",
    "                      'loggingTime(txt)',\n",
    "                      [\n",
    "                          ['accelerometerAccelerationX(G)','x'],\n",
    "                          ['accelerometerAccelerationY(G)', 'y'],\n",
    "                          ['accelerometerAccelerationZ(G)','z']\n",
    "                      ],\n",
    "                     'Acceleration - Walk')"
   ]
  },
  {
   "cell_type": "code",
   "execution_count": null,
   "metadata": {},
   "outputs": [],
   "source": [
    "#added NZ 20221005\n",
    "#acceleration - walking - position 2\n",
    "show_multiple_columns(nz_w2,\n",
    "                      'loggingTime(txt)',\n",
    "                      [\n",
    "                          ['accelerometerAccelerationX(G)','x'],\n",
    "                          ['accelerometerAccelerationY(G)', 'y'],\n",
    "                          ['accelerometerAccelerationZ(G)','z']\n",
    "                      ],\n",
    "                     'Acceleration - walk-position 2')"
   ]
  },
  {
   "cell_type": "code",
   "execution_count": null,
   "metadata": {},
   "outputs": [],
   "source": [
    "#added NZ 20221005\n",
    "#acceleration - Run - position 1\n",
    "show_multiple_columns(nz_r1,\n",
    "                      'loggingTime(txt)',\n",
    "                      [\n",
    "                          ['accelerometerAccelerationX(G)','x'],\n",
    "                          ['accelerometerAccelerationY(G)', 'y'],\n",
    "                          ['accelerometerAccelerationZ(G)','z']\n",
    "                      ],\n",
    "                     'Acceleration - Run- position 1')"
   ]
  },
  {
   "cell_type": "code",
   "execution_count": null,
   "metadata": {},
   "outputs": [],
   "source": [
    "#added NZ 20221005\n",
    "##gyroRotationX(rad/s) - walk - position 1\n",
    "show_multiple_columns(nz_w1,\n",
    "                      'loggingTime(txt)',\n",
    "                      [\n",
    "                          ['gyroRotationX(rad/s)','x'],\n",
    "                          ['gyroRotationY(rad/s)', 'y'],\n",
    "                          ['gyroRotationZ(rad/s)','z']\n",
    "                      ],\n",
    "                     'Gyro Data - Walk - 1')"
   ]
  },
  {
   "cell_type": "code",
   "execution_count": null,
   "metadata": {},
   "outputs": [],
   "source": [
    "#added NZ 20221005\n",
    "##gyroRotationX(rad/s) - walk - position 2\n",
    "show_multiple_columns(nz_w2,\n",
    "                      'locationHeadingTimestamp_since1970(s)',\n",
    "                      [\n",
    "                          ['gyroRotationX(rad/s)','x'],\n",
    "                          ['gyroRotationY(rad/s)', 'y'],\n",
    "                          ['gyroRotationZ(rad/s)','z']\n",
    "                      ],\n",
    "                     'Gyro Data - Walk - position 2')"
   ]
  },
  {
   "cell_type": "code",
   "execution_count": null,
   "metadata": {},
   "outputs": [],
   "source": [
    "#added NZ 20221005\n",
    "##gyroRotationX(rad/s) - run - position 1\n",
    "show_multiple_columns(nz_r1,\n",
    "                      'locationHeadingTimestamp_since1970(s)',\n",
    "                      [\n",
    "                          ['gyroRotationX(rad/s)','x'],\n",
    "                          ['gyroRotationY(rad/s)', 'y'],\n",
    "                          ['gyroRotationZ(rad/s)','z']\n",
    "                      ],\n",
    "                     'Gyro Data - Run - position 1')"
   ]
  },
  {
   "cell_type": "code",
   "execution_count": null,
   "metadata": {},
   "outputs": [],
   "source": [
    "#added NZ 20221005\n",
    "#magnetometerX(µT)- walk - position 1\n",
    "show_multiple_columns(nz_w1,\n",
    "                      'locationHeadingTimestamp_since1970(s)',\n",
    "                      [\n",
    "                          ['magnetometerX(µT)','x'],\n",
    "                          ['magnetometerX(µT)', 'y'],\n",
    "                          ['magnetometerX(µT)','z']\n",
    "                      ],\n",
    "                     'Magnetometer - Walk - position 1')"
   ]
  },
  {
   "cell_type": "code",
   "execution_count": null,
   "metadata": {},
   "outputs": [],
   "source": [
    "#added NZ 20221005\n",
    "#magnetometerX(µT)- walk - position 2\n",
    "show_multiple_columns(nz_w2,\n",
    "                      'locationHeadingTimestamp_since1970(s)',\n",
    "                      [\n",
    "                          ['magnetometerX(µT)','x'],\n",
    "                          ['magnetometerX(µT)', 'y'],\n",
    "                          ['magnetometerX(µT)','z']\n",
    "                      ],\n",
    "                     'Magnetometer - Walk - position 2')"
   ]
  },
  {
   "cell_type": "code",
   "execution_count": null,
   "metadata": {},
   "outputs": [],
   "source": [
    "#added NZ 20221005\n",
    "#magnetometerX(µT)- run - position 1\n",
    "show_multiple_columns(nz_r1,\n",
    "                      'locationHeadingTimestamp_since1970(s)',\n",
    "                      [\n",
    "                          ['magnetometerX(µT)','x'],\n",
    "                          ['magnetometerX(µT)', 'y'],\n",
    "                          ['magnetometerX(µT)','z']\n",
    "                      ],\n",
    "                     'Magnetometer - run - position 1')"
   ]
  },
  {
   "cell_type": "code",
   "execution_count": null,
   "metadata": {},
   "outputs": [],
   "source": [
    "#added NZ 20221005\n",
    "#motionGravityX(G)- walk - position 1\n",
    "show_multiple_columns(nz_w1,\n",
    "                      'locationHeadingTimestamp_since1970(s)',\n",
    "                      [\n",
    "                          ['motionGravityX(G)','x'],\n",
    "                          ['motionGravityX(G)', 'y'],\n",
    "                          ['motionGravityX(G)','z']\n",
    "                      ],\n",
    "                     'Magnetometer - Walk - position 1')"
   ]
  },
  {
   "cell_type": "code",
   "execution_count": null,
   "metadata": {},
   "outputs": [],
   "source": [
    "#added NZ 20221005\n",
    "#motionGravityX(G)- walk - position 2\n",
    "show_multiple_columns(nz_w2,\n",
    "                      'locationHeadingTimestamp_since1970(s)',\n",
    "                      [\n",
    "                          ['motionGravityX(G)','x'],\n",
    "                          ['motionGravityX(G)', 'y'],\n",
    "                          ['motionGravityX(G)','z']\n",
    "                      ],\n",
    "                     'Magnetometer - Walk - position 2')"
   ]
  },
  {
   "cell_type": "code",
   "execution_count": null,
   "metadata": {},
   "outputs": [],
   "source": [
    "#added NZ 20221005\n",
    "#motionGravityX(G)- Run - position 1\n",
    "show_multiple_columns(nz_r1,\n",
    "                      'locationHeadingTimestamp_since1970(s)',\n",
    "                      [\n",
    "                          ['motionGravityX(G)','x'],\n",
    "                          ['motionGravityX(G)', 'y'],\n",
    "                          ['motionGravityX(G)','z']\n",
    "                      ],\n",
    "                     'Magnetometer - Run - position 1')"
   ]
  },
  {
   "cell_type": "code",
   "execution_count": null,
   "metadata": {},
   "outputs": [],
   "source": [
    "#added NZ 20221005\n",
    "#unbiased user data -motionUserAccelerationX(G)- walk - position 1\n",
    "show_multiple_columns(nz_w1,\n",
    "                      'locationHeadingTimestamp_since1970(s)',\n",
    "                      [\n",
    "                          ['motionUserAccelerationX(G)','x'],\n",
    "                          ['motionUserAccelerationX(G)', 'y'],\n",
    "                          ['motionUserAccelerationX(G)','z']\n",
    "                      ],\n",
    "                     'Unbiased data user acceleration - Walk - position 1')"
   ]
  },
  {
   "cell_type": "code",
   "execution_count": null,
   "metadata": {},
   "outputs": [],
   "source": [
    "#added NZ 20221005\n",
    "#unbiased user data -motionUserAccelerationX(G)- walk - position 2\n",
    "show_multiple_columns(nz_w2,\n",
    "                      'locationHeadingTimestamp_since1970(s)',\n",
    "                      [\n",
    "                          ['motionUserAccelerationX(G)','x'],\n",
    "                          ['motionUserAccelerationX(G)', 'y'],\n",
    "                          ['motionUserAccelerationX(G)','z']\n",
    "                      ],\n",
    "                     'Unbiased data user acceleration - Walk - position 2')"
   ]
  },
  {
   "cell_type": "code",
   "execution_count": null,
   "metadata": {},
   "outputs": [],
   "source": [
    "#added NZ 20221005\n",
    "#unbiased user data -motionUserAccelerationX(G)- Run - position 1\n",
    "show_multiple_columns(nz_r1,\n",
    "                      'locationHeadingTimestamp_since1970(s)',\n",
    "                      [\n",
    "                          ['motionUserAccelerationX(G)','x'],\n",
    "                          ['motionUserAccelerationX(G)', 'y'],\n",
    "                          ['motionUserAccelerationX(G)','z']\n",
    "                      ],\n",
    "                     'Unbiased data user acceleration - Run - position 1')"
   ]
  },
  {
   "cell_type": "code",
   "execution_count": null,
   "metadata": {},
   "outputs": [],
   "source": []
  }
 ],
 "metadata": {
  "kernelspec": {
   "display_name": "Python 3 (ipykernel)",
   "language": "python",
   "name": "python3"
  },
  "language_info": {
   "codemirror_mode": {
    "name": "ipython",
    "version": 3
   },
   "file_extension": ".py",
   "mimetype": "text/x-python",
   "name": "python",
   "nbconvert_exporter": "python",
   "pygments_lexer": "ipython3",
   "version": "3.10.7"
  },
  "vscode": {
   "interpreter": {
    "hash": "b1300d74c582e433fb42e1997eddbde559ffc953ada519ef8cefa887b1cf9492"
   }
  }
 },
 "nbformat": 4,
 "nbformat_minor": 2
}
