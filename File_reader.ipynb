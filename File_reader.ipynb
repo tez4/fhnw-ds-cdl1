{
 "cells": [
  {
   "cell_type": "code",
   "execution_count": null,
   "metadata": {},
   "outputs": [],
   "source": [
    "import csv\n",
    "import numpy as np\n",
    "import pandas as pd\n",
    "import matplotlib.pyplot as plt\n",
    "from src import read_nz_file, read_jg_file, update_meta_data\n",
    "from sklearn.model_selection import train_test_split"
   ]
  },
  {
   "cell_type": "markdown",
   "metadata": {},
   "source": [
    "processed data - intermediate step\n",
    "\n",
    "> raw data\n",
    "\n",
    "> clean data\n",
    "\n",
    "> preprocess data : store it in DB (better compared to file format) \n",
    "\n",
    "    - data lake\n",
    "    \n",
    "    or\n",
    "    \n",
    "    - DB model based SQL (Nice to have but not required if we deceide to save the data as a Feather file)\n",
    "\n",
    "> "
   ]
  },
  {
   "cell_type": "markdown",
   "metadata": {},
   "source": [
    "## 1. Load and clean raw data\n",
    "\n",
    "files from SensorLog iOS app has in total over 70 colums and precision of 12 decimal figures. The output file is over 135 MB, which is too large for GitHub. GitHub restricts the file size, therefore these files from SensorLog must be cleaned.\n",
    "\n",
    "Below summary of steps which is done only for iOS files:\n",
    "\n",
    "- read raw data as csv files\n",
    "- remove unnecessary columns (captured in list 'remove_cols' below)\n",
    "- round to 6 decimal places to reduce the size of files\n",
    "- output dataframe as csv\n",
    "- upload the csv on GitHub"
   ]
  },
  {
   "cell_type": "markdown",
   "metadata": {},
   "source": [
    "# 2. Meta data\n",
    "\n",
    "The data on different data files is captured in meta dataframe below:\n",
    "- file name\n",
    "- user (nz or jg)\n",
    "- activity (running/cycling/walking/sitting)\n",
    "- pocket (in which pocket handy was during the activity)\n",
    "- position_x\n",
    "- position_y\n"
   ]
  },
  {
   "cell_type": "markdown",
   "metadata": {},
   "source": [
    "# 3. View data\n",
    "\n",
    "Sensor activity data is captured from 2 different Apps:\n",
    "- SensorLog (iOS) by user 'nz'\n",
    "- AndrioSensor (Andriod) by user 'jg'\n",
    "\n",
    "**Response**: 'Acivity' with 4 classes: running/walking/cycling/sitting\n",
    "\n"
   ]
  },
  {
   "cell_type": "code",
   "execution_count": null,
   "metadata": {},
   "outputs": [],
   "source": [
    "update_meta_data()"
   ]
  },
  {
   "cell_type": "code",
   "execution_count": null,
   "metadata": {},
   "outputs": [],
   "source": [
    "meta = pd.read_csv('data/meta.csv')\n",
    "meta"
   ]
  },
  {
   "cell_type": "code",
   "execution_count": null,
   "metadata": {},
   "outputs": [],
   "source": [
    "meta = meta[23:]"
   ]
  },
  {
   "cell_type": "code",
   "execution_count": null,
   "metadata": {
    "scrolled": false
   },
   "outputs": [],
   "source": [
    "all_train = pd.DataFrame()\n",
    "all_test = pd.DataFrame()\n",
    "\n",
    "def split_df(df: pd.DataFrame, hz: float = 100, test_proportion: float = 0.2):\n",
    "    # select every nth row\n",
    "    if test_proportion > 100:\n",
    "        raise Exception('hz must be less than 100!')\n",
    "    nth = int(100 / hz)\n",
    "    df = df.iloc[::nth, :]\n",
    "\n",
    "    # split into train and test\n",
    "    if test_proportion >= 1 or test_proportion <= 0:\n",
    "        raise Exception('test_proportion must be between 0 and 1!')\n",
    "\n",
    "    my_train_files = []\n",
    "    my_test_files = []\n",
    "\n",
    "    # test_per_minute = int(60 * test_proportion * hz)\n",
    "    # train_per_minute = int((60 * hz) - test_per_minute)\n",
    "\n",
    "    while len(df) / hz > 0:\n",
    "        if len(df) / hz < 600:\n",
    "            x = df\n",
    "            df = pd.DataFrame()\n",
    "        else:\n",
    "            x = df[:300 * hz:]\n",
    "            df = df[300 * hz:]\n",
    "\n",
    "        train_count  = int(len(x) * (1 - test_proportion))\n",
    "\n",
    "        my_train_files.append(x.iloc[: train_count])\n",
    "        my_test_files.append(x.iloc[train_count:])\n",
    "\n",
    "    print([len(i) for i in my_train_files])\n",
    "    print([len(i) for i in my_test_files])\n",
    "\n",
    "    return (train, test)\n",
    "\n",
    "\n",
    "for file, user, activity in zip(meta['file'], meta['user'], meta['activity']):\n",
    "    if user == 'nz':\n",
    "        df = read_nz_file(file, activity)\n",
    "\n",
    "    elif user == 'jg':\n",
    "        df = read_jg_file(file, activity)\n",
    "\n",
    "    print(file, user, activity, df.shape)\n",
    "\n",
    "    # split into train-test\n",
    "    train, test = split_df(df, hz = 20, test_proportion = 0.2)\n",
    "\n",
    "    # append to train and test\n",
    "\n",
    "# X - y split for test data"
   ]
  },
  {
   "cell_type": "code",
   "execution_count": null,
   "metadata": {},
   "outputs": [],
   "source": [
    "start = test['datetime'].min()\n",
    "end = test['datetime'].max()\n",
    "\n",
    "diff = end - start\n",
    "# Get the interval in milliseconds\n",
    "diff_in_milli_secs = diff.total_seconds() * 1000\n",
    "\n",
    "diff_in_milli_secs"
   ]
  }
 ],
 "metadata": {
  "kernelspec": {
   "display_name": "Python 3",
   "language": "python",
   "name": "python3"
  },
  "language_info": {
   "codemirror_mode": {
    "name": "ipython",
    "version": 3
   },
   "file_extension": ".py",
   "mimetype": "text/x-python",
   "name": "python",
   "nbconvert_exporter": "python",
   "pygments_lexer": "ipython3",
   "version": "3.10.3"
  },
  "vscode": {
   "interpreter": {
    "hash": "b1300d74c582e433fb42e1997eddbde559ffc953ada519ef8cefa887b1cf9492"
   }
  }
 },
 "nbformat": 4,
 "nbformat_minor": 4
}
