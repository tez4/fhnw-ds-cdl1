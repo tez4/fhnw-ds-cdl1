{
 "cells": [
  {
   "cell_type": "code",
   "execution_count": null,
   "metadata": {},
   "outputs": [],
   "source": [
    "import os\n",
    "import csv\n",
    "import yaml\n",
    "import wandb\n",
    "import pickle\n",
    "import random\n",
    "import numpy as np\n",
    "import pandas as pd\n",
    "import matplotlib.pyplot as plt\n",
    "import tensorflow as tf\n",
    "from keras.utils import to_categorical\n",
    "from keras.layers import Dense\n",
    "from keras.models import Sequential\n",
    "from src import (\n",
    "    read_nz_file, read_jg_file, update_meta_data, split_df, aggregate_files, add_moving_window, add_moving_window_2,\n",
    "    preprocess_data, save_preprocessing, one_hot_encode, preprocess_sequential, save_sequential_preprocessing)\n",
    "from sklearn.model_selection import train_test_split\n",
    "from wandb.keras import WandbCallback"
   ]
  },
  {
   "attachments": {},
   "cell_type": "markdown",
   "metadata": {},
   "source": [
    "## load and show meta data of recorded activities"
   ]
  },
  {
   "cell_type": "code",
   "execution_count": null,
   "metadata": {},
   "outputs": [],
   "source": [
    "update_meta_data()\n",
    "\n",
    "meta = pd.read_csv('data/meta.csv')\n",
    "meta"
   ]
  },
  {
   "attachments": {},
   "cell_type": "markdown",
   "metadata": {},
   "source": [
    "## run sequential preprocessing"
   ]
  },
  {
   "cell_type": "code",
   "execution_count": null,
   "metadata": {},
   "outputs": [],
   "source": [
    "# for moving_window_size in [1, 2]:\n",
    "#     for hz in [1, 2, 5, 10, 20]:\n",
    "\n",
    "settings = {\n",
    "    'MOVING_WINDOW_SIZE': 2,\n",
    "    'HZ': 5,\n",
    "    'STEP_SIZE': 5,\n",
    "    'TEST_PROPORTION': 0.5,\n",
    "    'AGGREGATION': \"sequential\",\n",
    "    'FEATURES': \"min, max, EucDist\"\n",
    "}\n",
    "\n",
    "directory = f\"sequential_index_{settings['HZ']}hz_{settings['MOVING_WINDOW_SIZE']}sec\"\n",
    "print(directory)\n",
    "\n",
    "X_train, X_test, y_train, y_test, train_indexes, test_indexes = preprocess_sequential(\n",
    "    moving_window_seconds = settings['MOVING_WINDOW_SIZE'],\n",
    "    hz = settings['HZ'],\n",
    "    step_size = settings['STEP_SIZE'],\n",
    "    meta = meta,\n",
    "    test_proportion = settings['TEST_PROPORTION'],\n",
    "    select_train_files = 'index'\n",
    ")\n",
    "\n",
    "save_sequential_preprocessing(X_train, X_test, y_train, y_test, train_indexes, test_indexes, directory, settings)"
   ]
  },
  {
   "attachments": {},
   "cell_type": "markdown",
   "metadata": {},
   "source": [
    "## run classical preprocessing"
   ]
  },
  {
   "cell_type": "code",
   "execution_count": null,
   "metadata": {},
   "outputs": [],
   "source": [
    "directory = 'dimension_independent_5hz_2sec'\n",
    "\n",
    "settings = {\n",
    "    'MOVING_WINDOW_SIZE': 2,\n",
    "    'HZ': 5,\n",
    "    'STEP_SIZE': 5,\n",
    "    'TEST_PROPORTION': 0.2,\n",
    "    'AGGREGATION': \"normal\",\n",
    "    'FEATURES': \"min, max, EucDist (mean & std)\",\n",
    "    'PREPROCESSING': directory\n",
    "}\n",
    "\n",
    "X_train, X_test, y_train, y_test = preprocess_data(\n",
    "    moving_window_seconds = settings['MOVING_WINDOW_SIZE'],\n",
    "    hz = settings['HZ'],\n",
    "    step_size = settings['STEP_SIZE'],\n",
    "    meta = meta,\n",
    "    test_proportion = settings['TEST_PROPORTION'],\n",
    "    agg_func = 'add_moving_window_2',\n",
    "    select_train_files='user' # 'all', 'index', 'position_x'\n",
    ")\n",
    "\n",
    "save_preprocessing(X_train, X_test, y_train, y_test, directory, settings)"
   ]
  }
 ],
 "metadata": {
  "kernelspec": {
   "display_name": "fhnw-ds-cdl1-sRO1VQ75",
   "language": "python",
   "name": "python3"
  },
  "language_info": {
   "codemirror_mode": {
    "name": "ipython",
    "version": 3
   },
   "file_extension": ".py",
   "mimetype": "text/x-python",
   "name": "python",
   "nbconvert_exporter": "python",
   "pygments_lexer": "ipython3",
   "version": "3.10.2"
  },
  "vscode": {
   "interpreter": {
    "hash": "b1300d74c582e433fb42e1997eddbde559ffc953ada519ef8cefa887b1cf9492"
   }
  }
 },
 "nbformat": 4,
 "nbformat_minor": 4
}
