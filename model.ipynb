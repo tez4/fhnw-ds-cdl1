{
 "cells": [
  {
   "cell_type": "code",
   "execution_count": null,
   "metadata": {},
   "outputs": [],
   "source": [
    "import os\n",
    "import csv\n",
    "import yaml\n",
    "import wandb\n",
    "import numpy as np\n",
    "import pandas as pd\n",
    "import matplotlib.pyplot as plt\n",
    "import tensorflow as tf\n",
    "from tensorflow.keras.layers import Dense\n",
    "from tensorflow.keras.models import Sequential\n",
    "from src import read_nz_file, read_jg_file, update_meta_data, split_df, aggregate_files, add_moving_window\n",
    "from sklearn.model_selection import train_test_split\n",
    "from wandb.keras import WandbCallback"
   ]
  },
  {
   "cell_type": "code",
   "execution_count": null,
   "metadata": {},
   "outputs": [],
   "source": [
    "def read_preprocessing(folder):\n",
    "    X_train = pd.read_parquet(f'tmp/{folder}/X_train.parquet')\n",
    "    X_test = pd.read_parquet(f'tmp/{folder}/X_test.parquet')\n",
    "    y_train = pd.read_parquet(f'tmp/{folder}/y_train.parquet')['y']\n",
    "    y_test = pd.read_parquet(f'tmp/{folder}/y_test.parquet')['y']\n",
    "\n",
    "    with open(rf'./tmp/{folder}/metadata.yaml') as file:\n",
    "        settings = yaml.full_load(file)\n",
    "\n",
    "    return X_train, X_test, y_train, y_test, settings"
   ]
  },
  {
   "cell_type": "code",
   "execution_count": null,
   "metadata": {},
   "outputs": [],
   "source": [
    "X_train, X_test, y_train, y_test, settings = read_preprocessing('basic')"
   ]
  },
  {
   "cell_type": "code",
   "execution_count": null,
   "metadata": {},
   "outputs": [],
   "source": [
    "y_train_2 = y_train.apply(lambda x: 1 if x == 'cycling' else 0)\n",
    "y_test_2 = y_test.apply(lambda x: 1 if x == 'cycling' else 0)"
   ]
  },
  {
   "cell_type": "code",
   "execution_count": null,
   "metadata": {},
   "outputs": [],
   "source": [
    "wandb.login()\n",
    "\n",
    "run = wandb.init(\n",
    "  project=\"test-is-cycling\",\n",
    "  entity=\"cdl1\",\n",
    "  config={\n",
    "    \"learning_rate\": 0.001,\n",
    "    \"epochs\": 256,\n",
    "    \"loss_function\": 'binary_crossentropy',\n",
    "    \"architecture\": \"logistic regression\",\n",
    "    \"moving_window_size\": settings['MOVING_WINDOW_SIZE'],\n",
    "    \"hz\": settings['HZ'],\n",
    "    \"step_size\": settings['STEP_SIZE'],\n",
    "    \"test_proportion\": settings['TEST_PROPORTION']\n",
    "  }\n",
    ")\n",
    "\n",
    "config = wandb.config\n",
    "\n",
    "# initialize model\n",
    "model = Sequential()\n",
    "model.add(Dense(1, input_dim = len(X_train.columns), activation = 'sigmoid'))\n",
    "model.summary()\n",
    "\n",
    "# compile model\n",
    "model.compile(loss = config.loss_function, optimizer = 'rmsprop', metrics = ['accuracy'])\n",
    "\n",
    "model.fit(\n",
    "    x = X_train,\n",
    "    y = y_train_2,\n",
    "    epochs = config.epochs,\n",
    "    verbose  = 1,\n",
    "    validation_data = (X_test, y_test_2),\n",
    "    callbacks=[WandbCallback()]\n",
    ")\n",
    "\n",
    "run.finish()"
   ]
  },
  {
   "cell_type": "code",
   "execution_count": null,
   "metadata": {},
   "outputs": [],
   "source": [
    "predictions = model.predict(X_test)"
   ]
  },
  {
   "cell_type": "code",
   "execution_count": null,
   "metadata": {},
   "outputs": [],
   "source": [
    "pd.Series(predictions.T[0]).apply(lambda x: 1 if x >= 0.5 else 0)"
   ]
  }
 ],
 "metadata": {
  "kernelspec": {
   "display_name": "fhnw-ds-cdl1-sRO1VQ75",
   "language": "python",
   "name": "python3"
  },
  "language_info": {
   "codemirror_mode": {
    "name": "ipython",
    "version": 3
   },
   "file_extension": ".py",
   "mimetype": "text/x-python",
   "name": "python",
   "nbconvert_exporter": "python",
   "pygments_lexer": "ipython3",
   "version": "3.10.2"
  },
  "orig_nbformat": 4,
  "vscode": {
   "interpreter": {
    "hash": "b1300d74c582e433fb42e1997eddbde559ffc953ada519ef8cefa887b1cf9492"
   }
  }
 },
 "nbformat": 4,
 "nbformat_minor": 2
}
