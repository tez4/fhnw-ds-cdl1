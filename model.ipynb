{
 "cells": [
  {
   "cell_type": "code",
   "execution_count": null,
   "metadata": {},
   "outputs": [],
   "source": [
    "import os\n",
    "import csv\n",
    "import yaml\n",
    "import wandb\n",
    "import pickle\n",
    "import random\n",
    "import numpy as np\n",
    "import pandas as pd\n",
    "import matplotlib.pyplot as plt\n",
    "import tensorflow as tf\n",
    "from keras.layers import Dense, GRU, Dropout, Conv2D, MaxPooling2D, Flatten\n",
    "from keras.models import Sequential\n",
    "# from src import read_nz_file, read_jg_file, update_meta_data, split_df, aggregate_files, add_moving_window\n",
    "from sklearn.model_selection import train_test_split\n",
    "from wandb.keras import WandbCallback"
   ]
  },
  {
   "cell_type": "code",
   "execution_count": null,
   "metadata": {},
   "outputs": [],
   "source": [
    "def read_preprocessing(folder, file_type: str = 'parquet'):\n",
    "    if file_type == 'parquet':\n",
    "        X_train = pd.read_parquet(f'{folder}/X_train.parquet')\n",
    "        X_test = pd.read_parquet(f'{folder}/X_test.parquet')\n",
    "        y_train = pd.read_parquet(f'{folder}/y_train.parquet')['y']\n",
    "        y_test = pd.read_parquet(f'{folder}/y_test.parquet')['y']\n",
    "    elif file_type == 'pickle':\n",
    "        with open(f'{folder}/X_train.pickle', 'rb') as f: X_train = pickle.load(f)\n",
    "        with open(f'{folder}/X_test.pickle', 'rb') as f: X_test = pickle.load(f)\n",
    "        with open(f'{folder}/y_train.pickle', 'rb') as f: y_train = pickle.load(f)\n",
    "        with open(f'{folder}/y_test.pickle', 'rb') as f: y_test = pickle.load(f)\n",
    "\n",
    "    with open(f'{folder}//metadata.yaml') as file:\n",
    "        settings = yaml.full_load(file)\n",
    "\n",
    "    return X_train, X_test, y_train, y_test, settings"
   ]
  },
  {
   "cell_type": "code",
   "execution_count": null,
   "metadata": {},
   "outputs": [],
   "source": [
    "# !pip install wandb"
   ]
  },
  {
   "cell_type": "markdown",
   "metadata": {},
   "source": [
    "## Keras model"
   ]
  },
  {
   "cell_type": "code",
   "execution_count": null,
   "metadata": {},
   "outputs": [],
   "source": [
    "X_train, X_test, y_train, y_test, settings = read_preprocessing(file_type='pickle', folder = './data/sensor/NN_5hz_5sec')"
   ]
  },
  {
   "cell_type": "code",
   "execution_count": null,
   "metadata": {},
   "outputs": [],
   "source": [
    "print(X_train.shape)\n",
    "print(y_train.shape)\n",
    "print(X_test.shape)\n",
    "print(y_test.shape)"
   ]
  },
  {
   "cell_type": "code",
   "execution_count": null,
   "metadata": {},
   "outputs": [],
   "source": [
    "settings"
   ]
  },
  {
   "cell_type": "code",
   "execution_count": null,
   "metadata": {},
   "outputs": [],
   "source": [
    "my_train_indexes = [i for i in range(0, y_train.shape[0] - 1)]\n",
    "random.shuffle(my_train_indexes)\n",
    "\n",
    "my_test_indexes = [i for i in range(0, y_test.shape[0] - 1)]\n",
    "random.shuffle(my_test_indexes)"
   ]
  },
  {
   "cell_type": "code",
   "execution_count": null,
   "metadata": {},
   "outputs": [],
   "source": [
    "X_train = X_train.take(my_train_indexes, 0)\n",
    "y_train = y_train.take(my_train_indexes, 0)\n",
    "X_test = X_test.take(my_test_indexes, 0)\n",
    "y_test = y_test.take(my_test_indexes, 0)"
   ]
  },
  {
   "cell_type": "code",
   "execution_count": null,
   "metadata": {},
   "outputs": [],
   "source": [
    "def create_model(first_layer_size = 32, added_dense_layers = 0):\n",
    "    model = Sequential()\n",
    "    model.add(GRU(first_layer_size, dropout=0.2, recurrent_dropout=0.2, input_shape=(None, X_train.shape[-1])))\n",
    "    if added_dense_layers == 1:\n",
    "        model.add(Dense(128, input_shape = (None, X_train.shape[-1]), activation = 'relu'))\n",
    "        model.add(Dense(4, activation = 'softmax'))\n",
    "    elif added_dense_layers == 0:\n",
    "        model.add(Dense(4, input_shape = (None, X_train.shape[-1]), activation = 'softmax'))\n",
    "\n",
    "    return model"
   ]
  },
  {
   "cell_type": "code",
   "execution_count": null,
   "metadata": {},
   "outputs": [],
   "source": [
    "wandb.login()\n",
    "\n",
    "for first_layer_size in [32, 64]:\n",
    "    for added_dense_layers in [0, 1]:\n",
    "\n",
    "        model = create_model(first_layer_size = first_layer_size, added_dense_layers = added_dense_layers)\n",
    "\n",
    "        config={\n",
    "            \"architecture\": \"RNN\",\n",
    "            \"moving_window_size\": settings['MOVING_WINDOW_SIZE'],\n",
    "            \"hz\": settings['HZ'],\n",
    "            \"step_size\": settings['STEP_SIZE'],\n",
    "            \"test_proportion\": settings['TEST_PROPORTION'],\n",
    "            \"aggregation\": settings['AGGREGATION'],\n",
    "            \"preprocessing\": settings['PREPROCESSING'],\n",
    "            \"features\": settings['FEATURES'],\n",
    "            'batch size': 32,\n",
    "            \"epochs\": 50,\n",
    "            \"layers\": len(model.layers),\n",
    "            \"first_layer_size\": first_layer_size,\n",
    "            \"added_dense_layers\": added_dense_layers\n",
    "        }\n",
    "\n",
    "        run = wandb.init(\n",
    "            project=\"CDL1\",\n",
    "            entity=\"cdl1\",\n",
    "            name=config['architecture'],\n",
    "            config=config\n",
    "        )\n",
    "\n",
    "        # compile model\n",
    "        model.compile(\n",
    "            loss = 'categorical_crossentropy',\n",
    "            optimizer = 'rmsprop',\n",
    "            metrics = ['accuracy']\n",
    "        )\n",
    "\n",
    "        model.fit(\n",
    "            x = X_train,\n",
    "            y = y_train,\n",
    "            epochs = config['epochs'],\n",
    "            batch_size=config['batch size'],\n",
    "            validation_data = (X_test, y_test),\n",
    "            callbacks=[WandbCallback()]\n",
    "        )\n",
    "\n",
    "        run.finish()"
   ]
  },
  {
   "cell_type": "code",
   "execution_count": null,
   "metadata": {},
   "outputs": [],
   "source": [
    "predictions = model.predict(X_test)"
   ]
  },
  {
   "cell_type": "code",
   "execution_count": null,
   "metadata": {},
   "outputs": [],
   "source": [
    "pd.Series(predictions.T[0]).apply(lambda x: 1 if x >= 0.5 else 0)"
   ]
  }
 ],
 "metadata": {
  "kernelspec": {
   "display_name": "Python 3 (ipykernel)",
   "language": "python",
   "name": "python3"
  },
  "language_info": {
   "codemirror_mode": {
    "name": "ipython",
    "version": 3
   },
   "file_extension": ".py",
   "mimetype": "text/x-python",
   "name": "python",
   "nbconvert_exporter": "python",
   "pygments_lexer": "ipython3",
   "version": "3.10.6"
  },
  "vscode": {
   "interpreter": {
    "hash": "b1300d74c582e433fb42e1997eddbde559ffc953ada519ef8cefa887b1cf9492"
   }
  }
 },
 "nbformat": 4,
 "nbformat_minor": 4
}
