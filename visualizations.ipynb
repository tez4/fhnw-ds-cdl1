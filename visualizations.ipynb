{
 "cells": [
  {
   "cell_type": "code",
   "execution_count": null,
   "metadata": {},
   "outputs": [],
   "source": [
    "import os\n",
    "import csv\n",
    "import yaml\n",
    "import wandb\n",
    "import numpy as np\n",
    "import pandas as pd\n",
    "import matplotlib.pyplot as plt\n",
    "import tensorflow as tf\n",
    "from keras.layers import Dense\n",
    "from keras.models import Sequential\n",
    "from src import read_nz_file, read_jg_file, update_meta_data, split_df, aggregate_files, add_moving_window\n",
    "from sklearn.model_selection import train_test_split\n",
    "from wandb.keras import WandbCallback"
   ]
  },
  {
   "cell_type": "code",
   "execution_count": null,
   "metadata": {},
   "outputs": [],
   "source": [
    "def read_preprocessing(folder):\n",
    "    X_train = pd.read_parquet(f'tmp/{folder}/X_train.parquet')\n",
    "    X_test = pd.read_parquet(f'tmp/{folder}/X_test.parquet')\n",
    "    y_train = pd.read_parquet(f'tmp/{folder}/y_train.parquet')['y']\n",
    "    y_test = pd.read_parquet(f'tmp/{folder}/y_test.parquet')['y']\n",
    "\n",
    "    with open(rf'./tmp/{folder}/metadata.yaml') as file:\n",
    "        settings = yaml.full_load(file)\n",
    "\n",
    "    return X_train, X_test, y_train, y_test, settings"
   ]
  },
  {
   "cell_type": "code",
   "execution_count": null,
   "metadata": {},
   "outputs": [],
   "source": [
    "import plotly.express as px\n",
    "import plotly.graph_objects as go\n",
    "import plotly.figure_factory as ff\n",
    "from plotly.subplots import make_subplots\n",
    "\n",
    "def create_box_plot(df, y, type = 'violin'):\n",
    "\n",
    "    cycling = df[df['y'] == 'cycling']\n",
    "    running = df[df['y'] == 'running']\n",
    "    sitting = df[df['y'] == 'sitting']\n",
    "    walking = df[df['y'] == 'walking']\n",
    "\n",
    "    fig = go.Figure()\n",
    "\n",
    "    if type == 'box':\n",
    "        fig.add_trace(go.Box(x=cycling[y], name='cycling', width=0.85))\n",
    "        fig.add_trace(go.Box(x=running[y], name='running', width=0.85))\n",
    "        fig.add_trace(go.Box(x=walking[y], name='walking', width=0.85))\n",
    "        fig.add_trace(go.Box(x=sitting[y], name='sitting', width=0.85))\n",
    "    elif type == 'violin':\n",
    "        fig.add_trace(go.Violin(x=cycling[y], name='cycling', width=0.85))\n",
    "        fig.add_trace(go.Violin(x=running[y], name='running', width=0.85))\n",
    "        fig.add_trace(go.Violin(x=walking[y], name='walking', width=0.85))\n",
    "        fig.add_trace(go.Violin(x=sitting[y], name='sitting', width=0.85))\n",
    "\n",
    "    fig.update_layout(\n",
    "        height=500,\n",
    "        width=1000,\n",
    "        title_text=y,\n",
    "        legend=dict(\n",
    "            orientation=\"h\",\n",
    "            yanchor=\"top\",\n",
    "            y=-0.03,\n",
    "            xanchor=\"right\",\n",
    "            x=1\n",
    "        ),\n",
    "        margin=dict(l=15, r=15, t=50, b=15)\n",
    "    )\n",
    "\n",
    "    fig.show()"
   ]
  },
  {
   "attachments": {},
   "cell_type": "markdown",
   "metadata": {},
   "source": [
    "## Compare "
   ]
  },
  {
   "cell_type": "code",
   "execution_count": null,
   "metadata": {},
   "outputs": [],
   "source": [
    "X_train, X_test, y_train, y_test, settings = read_preprocessing('basic_20hz_20sec')\n",
    "df = pd.concat([X_train, y_train], axis=1)\n",
    "\n",
    "for col in ['gyroscope_X(rad/s)_mean', 'gyroscope_X(rad/s)_std']:\n",
    "    create_box_plot(df, col)"
   ]
  },
  {
   "cell_type": "code",
   "execution_count": null,
   "metadata": {},
   "outputs": [],
   "source": [
    "X_train, X_test, y_train, y_test, settings = read_preprocessing('dimension_independent_20hz_20sec')\n",
    "df = pd.concat([X_train, y_train], axis=1)"
   ]
  },
  {
   "cell_type": "code",
   "execution_count": null,
   "metadata": {},
   "outputs": [],
   "source": [
    "for col in ['v_accelerometer_mean', 'v_accelerometer_std']:\n",
    "    create_box_plot(df, col)"
   ]
  },
  {
   "cell_type": "code",
   "execution_count": null,
   "metadata": {},
   "outputs": [],
   "source": [
    "X_train, X_test, y_train, y_test, settings = read_preprocessing('dimension_independent_5hz_2sec')\n",
    "df = pd.concat([X_train, y_train], axis=1)"
   ]
  },
  {
   "cell_type": "code",
   "execution_count": null,
   "metadata": {},
   "outputs": [],
   "source": [
    "for col in ['v_accelerometer_mean', 'v_accelerometer_std']:\n",
    "    create_box_plot(df, col)"
   ]
  },
  {
   "cell_type": "code",
   "execution_count": null,
   "metadata": {},
   "outputs": [],
   "source": []
  }
 ],
 "metadata": {
  "kernelspec": {
   "display_name": "fhnw-ds-cdl1-sRO1VQ75",
   "language": "python",
   "name": "python3"
  },
  "language_info": {
   "codemirror_mode": {
    "name": "ipython",
    "version": 3
   },
   "file_extension": ".py",
   "mimetype": "text/x-python",
   "name": "python",
   "nbconvert_exporter": "python",
   "pygments_lexer": "ipython3",
   "version": "3.10.2"
  },
  "orig_nbformat": 4,
  "vscode": {
   "interpreter": {
    "hash": "b1300d74c582e433fb42e1997eddbde559ffc953ada519ef8cefa887b1cf9492"
   }
  }
 },
 "nbformat": 4,
 "nbformat_minor": 2
}
